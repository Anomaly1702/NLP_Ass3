{
  "cells": [
    {
      "cell_type": "code",
      "source": [
        "#All Imports \n",
        "# !pip install datasets\n",
        "# !pip install transformers\n",
        "# !pip install SentencePiece\n",
        "\n",
        "# !pip install transformers[sentencepiece] datasets sacrebleu rouge_score py7zr -q\n",
        "\n",
        "import torch\n",
        "import transformers\n",
        "from transformers import AutoTokenizer\n",
        "from transformers import PegasusForConditionalGeneration, PegasusTokenizer\n",
        "\n",
        "from transformers import pipeline, set_seed\n",
        "import matplotlib.pyplot as plt\n",
        "from datasets import load_dataset\n",
        "import pandas as pd\n",
        "from datasets import load_dataset, load_metric\n",
        "\n",
        "\n",
        "from transformers import AutoModelForSeq2SeqLM, AutoTokenizer\n",
        "\n",
        "# import nltk\n",
        "# from nltk.tokenize import sent_tokenize\n",
        "\n",
        "from tqdm import tqdm\n",
        "import torch"
      ],
      "metadata": {
        "id": "eCVrIFvA-o4I"
      },
      "execution_count": 1,
      "outputs": []
    },
    {
      "cell_type": "markdown",
      "metadata": {
        "id": "i4mbwjzK8N6Q"
      },
      "source": [
        "# Transfer learning \n",
        "- train the pre-train model "
      ]
    },
    {
      "cell_type": "code",
      "execution_count": 2,
      "metadata": {
        "colab": {
          "base_uri": "https://localhost:8080/",
          "height": 355
        },
        "id": "5DsFHIQm8N6U",
        "outputId": "347e8fc7-82f6-4555-bea3-ac9f00b99b94"
      },
      "outputs": [
        {
          "output_type": "stream",
          "name": "stdout",
          "text": [
            "Drive already mounted at /content/drive; to attempt to forcibly remount, call drive.mount(\"/content/drive\", force_remount=True).\n"
          ]
        },
        {
          "output_type": "execute_result",
          "data": {
            "text/plain": [
              "     paper_id                                          body_text  \\\n",
              "0  PMC8524215  cancer prevalent cause mortality world common ...   \n",
              "1  PMC7698314  sarscov2 virus responsible covid19 disease fir...   \n",
              "2  PMC8050998  artificial intelligence ai methodology compute...   \n",
              "3  PMC7581283  common feature patient admitted coronavirus di...   \n",
              "4  PMC7392455  coronavirus disease covid19 caused severe acut...   \n",
              "\n",
              "                                             authors  \\\n",
              "0  ['Muhammad  Sufyan ', 'Farah  Shahid ', 'Faiza...   \n",
              "1  ['Enrique  Casalino ', 'Christophe  Choquet ',...   \n",
              "2  ['Martina  Gurgitano ', 'Salvatore Alessio Ang...   \n",
              "3  ['Ejvind Frausing Hansen ', 'Charlotte Sandau ...   \n",
              "4  ['Daniel O. Griffin ', 'Alexandra  Jensen ', '...   \n",
              "\n",
              "                                               title  \\\n",
              "0  implementation vaccinomics insilico approach c...   \n",
              "1  analysis emergency department visit hospital a...   \n",
              "2  interventional radiology exmachina impact arti...   \n",
              "3  automatic oxygen titration o2matic® patient ad...   \n",
              "4  pulmonary embolism increased level ddimer pati...   \n",
              "\n",
              "                                            abstract Language  \n",
              "0  68591    One of the most common gynecologic ca...       en  \n",
              "1  813557    ED-visits and through-ED admissions ...       en  \n",
              "2  757155    Artificial intelligence (AI) is a br...       en  \n",
              "3  942009    INTRODUCTION: Patients with coronavi...       en  \n",
              "4  843714    We report 3 patients with coronaviru...       en  "
            ],
            "text/html": [
              "\n",
              "  <div id=\"df-52d4c86c-3a36-4307-99a7-7b46a2757df4\">\n",
              "    <div class=\"colab-df-container\">\n",
              "      <div>\n",
              "<style scoped>\n",
              "    .dataframe tbody tr th:only-of-type {\n",
              "        vertical-align: middle;\n",
              "    }\n",
              "\n",
              "    .dataframe tbody tr th {\n",
              "        vertical-align: top;\n",
              "    }\n",
              "\n",
              "    .dataframe thead th {\n",
              "        text-align: right;\n",
              "    }\n",
              "</style>\n",
              "<table border=\"1\" class=\"dataframe\">\n",
              "  <thead>\n",
              "    <tr style=\"text-align: right;\">\n",
              "      <th></th>\n",
              "      <th>paper_id</th>\n",
              "      <th>body_text</th>\n",
              "      <th>authors</th>\n",
              "      <th>title</th>\n",
              "      <th>abstract</th>\n",
              "      <th>Language</th>\n",
              "    </tr>\n",
              "  </thead>\n",
              "  <tbody>\n",
              "    <tr>\n",
              "      <th>0</th>\n",
              "      <td>PMC8524215</td>\n",
              "      <td>cancer prevalent cause mortality world common ...</td>\n",
              "      <td>['Muhammad  Sufyan ', 'Farah  Shahid ', 'Faiza...</td>\n",
              "      <td>implementation vaccinomics insilico approach c...</td>\n",
              "      <td>68591    One of the most common gynecologic ca...</td>\n",
              "      <td>en</td>\n",
              "    </tr>\n",
              "    <tr>\n",
              "      <th>1</th>\n",
              "      <td>PMC7698314</td>\n",
              "      <td>sarscov2 virus responsible covid19 disease fir...</td>\n",
              "      <td>['Enrique  Casalino ', 'Christophe  Choquet ',...</td>\n",
              "      <td>analysis emergency department visit hospital a...</td>\n",
              "      <td>813557    ED-visits and through-ED admissions ...</td>\n",
              "      <td>en</td>\n",
              "    </tr>\n",
              "    <tr>\n",
              "      <th>2</th>\n",
              "      <td>PMC8050998</td>\n",
              "      <td>artificial intelligence ai methodology compute...</td>\n",
              "      <td>['Martina  Gurgitano ', 'Salvatore Alessio Ang...</td>\n",
              "      <td>interventional radiology exmachina impact arti...</td>\n",
              "      <td>757155    Artificial intelligence (AI) is a br...</td>\n",
              "      <td>en</td>\n",
              "    </tr>\n",
              "    <tr>\n",
              "      <th>3</th>\n",
              "      <td>PMC7581283</td>\n",
              "      <td>common feature patient admitted coronavirus di...</td>\n",
              "      <td>['Ejvind Frausing Hansen ', 'Charlotte Sandau ...</td>\n",
              "      <td>automatic oxygen titration o2matic® patient ad...</td>\n",
              "      <td>942009    INTRODUCTION: Patients with coronavi...</td>\n",
              "      <td>en</td>\n",
              "    </tr>\n",
              "    <tr>\n",
              "      <th>4</th>\n",
              "      <td>PMC7392455</td>\n",
              "      <td>coronavirus disease covid19 caused severe acut...</td>\n",
              "      <td>['Daniel O. Griffin ', 'Alexandra  Jensen ', '...</td>\n",
              "      <td>pulmonary embolism increased level ddimer pati...</td>\n",
              "      <td>843714    We report 3 patients with coronaviru...</td>\n",
              "      <td>en</td>\n",
              "    </tr>\n",
              "  </tbody>\n",
              "</table>\n",
              "</div>\n",
              "      <button class=\"colab-df-convert\" onclick=\"convertToInteractive('df-52d4c86c-3a36-4307-99a7-7b46a2757df4')\"\n",
              "              title=\"Convert this dataframe to an interactive table.\"\n",
              "              style=\"display:none;\">\n",
              "        \n",
              "  <svg xmlns=\"http://www.w3.org/2000/svg\" height=\"24px\"viewBox=\"0 0 24 24\"\n",
              "       width=\"24px\">\n",
              "    <path d=\"M0 0h24v24H0V0z\" fill=\"none\"/>\n",
              "    <path d=\"M18.56 5.44l.94 2.06.94-2.06 2.06-.94-2.06-.94-.94-2.06-.94 2.06-2.06.94zm-11 1L8.5 8.5l.94-2.06 2.06-.94-2.06-.94L8.5 2.5l-.94 2.06-2.06.94zm10 10l.94 2.06.94-2.06 2.06-.94-2.06-.94-.94-2.06-.94 2.06-2.06.94z\"/><path d=\"M17.41 7.96l-1.37-1.37c-.4-.4-.92-.59-1.43-.59-.52 0-1.04.2-1.43.59L10.3 9.45l-7.72 7.72c-.78.78-.78 2.05 0 2.83L4 21.41c.39.39.9.59 1.41.59.51 0 1.02-.2 1.41-.59l7.78-7.78 2.81-2.81c.8-.78.8-2.07 0-2.86zM5.41 20L4 18.59l7.72-7.72 1.47 1.35L5.41 20z\"/>\n",
              "  </svg>\n",
              "      </button>\n",
              "      \n",
              "  <style>\n",
              "    .colab-df-container {\n",
              "      display:flex;\n",
              "      flex-wrap:wrap;\n",
              "      gap: 12px;\n",
              "    }\n",
              "\n",
              "    .colab-df-convert {\n",
              "      background-color: #E8F0FE;\n",
              "      border: none;\n",
              "      border-radius: 50%;\n",
              "      cursor: pointer;\n",
              "      display: none;\n",
              "      fill: #1967D2;\n",
              "      height: 32px;\n",
              "      padding: 0 0 0 0;\n",
              "      width: 32px;\n",
              "    }\n",
              "\n",
              "    .colab-df-convert:hover {\n",
              "      background-color: #E2EBFA;\n",
              "      box-shadow: 0px 1px 2px rgba(60, 64, 67, 0.3), 0px 1px 3px 1px rgba(60, 64, 67, 0.15);\n",
              "      fill: #174EA6;\n",
              "    }\n",
              "\n",
              "    [theme=dark] .colab-df-convert {\n",
              "      background-color: #3B4455;\n",
              "      fill: #D2E3FC;\n",
              "    }\n",
              "\n",
              "    [theme=dark] .colab-df-convert:hover {\n",
              "      background-color: #434B5C;\n",
              "      box-shadow: 0px 1px 3px 1px rgba(0, 0, 0, 0.15);\n",
              "      filter: drop-shadow(0px 1px 2px rgba(0, 0, 0, 0.3));\n",
              "      fill: #FFFFFF;\n",
              "    }\n",
              "  </style>\n",
              "\n",
              "      <script>\n",
              "        const buttonEl =\n",
              "          document.querySelector('#df-52d4c86c-3a36-4307-99a7-7b46a2757df4 button.colab-df-convert');\n",
              "        buttonEl.style.display =\n",
              "          google.colab.kernel.accessAllowed ? 'block' : 'none';\n",
              "\n",
              "        async function convertToInteractive(key) {\n",
              "          const element = document.querySelector('#df-52d4c86c-3a36-4307-99a7-7b46a2757df4');\n",
              "          const dataTable =\n",
              "            await google.colab.kernel.invokeFunction('convertToInteractive',\n",
              "                                                     [key], {});\n",
              "          if (!dataTable) return;\n",
              "\n",
              "          const docLinkHtml = 'Like what you see? Visit the ' +\n",
              "            '<a target=\"_blank\" href=https://colab.research.google.com/notebooks/data_table.ipynb>data table notebook</a>'\n",
              "            + ' to learn more about interactive tables.';\n",
              "          element.innerHTML = '';\n",
              "          dataTable['output_type'] = 'display_data';\n",
              "          await google.colab.output.renderOutput(dataTable, element);\n",
              "          const docLink = document.createElement('div');\n",
              "          docLink.innerHTML = docLinkHtml;\n",
              "          element.appendChild(docLink);\n",
              "        }\n",
              "      </script>\n",
              "    </div>\n",
              "  </div>\n",
              "  "
            ]
          },
          "metadata": {},
          "execution_count": 2
        }
      ],
      "source": [
        "import pandas as pd\n",
        "#mounting drive\n",
        "from google.colab import drive\n",
        "drive.mount('/content/drive')\n",
        "data_dir = '/content/drive/MyDrive/NLP/Ass3/'\n",
        "\n",
        "# article_df = pd.read_csv(data_dir + 'md_pmc_covid_articles.csv')\n",
        "# article_df.head(5)\n",
        "proc_article_df = pd.read_csv(data_dir + 'Processed_covid_articles.csv')\n",
        "proc_article_df = proc_article_df.drop(['Unnamed: 0'], axis=1)\n",
        "proc_article_df.head(5)"
      ]
    },
    {
      "cell_type": "code",
      "source": [
        "#Showing a sample \n",
        "sample = proc_article_df.iloc[0]\n",
        "print(f\"\"\"\n",
        "Article (excerpt of 500 characters, total length: {len(sample[\"body_text\"])}):\n",
        "\"\"\")\n",
        "print(sample[\"body_text\"][:500])\n",
        "print(f'\\nSummary (length: {len(sample[\"abstract\"])}):')\n",
        "print(sample[\"abstract\"])"
      ],
      "metadata": {
        "colab": {
          "base_uri": "https://localhost:8080/"
        },
        "id": "tXQDzcinKhWJ",
        "outputId": "af9801f5-e9b1-46e4-fbfc-6cb788dc6535"
      },
      "execution_count": 3,
      "outputs": [
        {
          "output_type": "stream",
          "name": "stdout",
          "text": [
            "\n",
            "Article (excerpt of 500 characters, total length: 25277):\n",
            "\n",
            "cancer prevalent cause mortality world common hindrance country achieving desired life expectancy . ovarian cancer one common type cancer woman . guleria . 2020 . ovarian cancer extremely lethal nastiest prognosis ailment . inability early diagnosis nearly nonspecific symptom common ovarian cancer identified iiiiv stage . five major histological form ovarian cancer identified epithelial edward . 2016 torre . 2018 siegel miller 2016 . endometrioid 13 mucinous 13 clear cell cancer 6 three prevalen\n",
            "\n",
            "Summary (length: 88):\n",
            "68591    One of the most common gynecologic cancers is ...\n",
            "Name: abstract, dtype: object\n"
          ]
        }
      ]
    },
    {
      "cell_type": "code",
      "source": [
        "import pandas as pd\n",
        "# divide the dataframe into training data and test data\n",
        "article_df_copy = proc_article_df.copy()\n",
        "train_article = article_df_copy[['body_text','abstract']].iloc[:4000]  # 4000 rows for training\n",
        "test_article = article_df_copy[['body_text','abstract']].iloc[4000:] # 500 rows for testing\n",
        "\n",
        "train_article.head(5)"
      ],
      "metadata": {
        "colab": {
          "base_uri": "https://localhost:8080/",
          "height": 206
        },
        "id": "8ZF4BdMQbppy",
        "outputId": "94ea4fb9-7505-45e7-a6d2-1a07a0e3aa4a"
      },
      "execution_count": 4,
      "outputs": [
        {
          "output_type": "execute_result",
          "data": {
            "text/plain": [
              "                                           body_text  \\\n",
              "0  cancer prevalent cause mortality world common ...   \n",
              "1  sarscov2 virus responsible covid19 disease fir...   \n",
              "2  artificial intelligence ai methodology compute...   \n",
              "3  common feature patient admitted coronavirus di...   \n",
              "4  coronavirus disease covid19 caused severe acut...   \n",
              "\n",
              "                                            abstract  \n",
              "0  68591    One of the most common gynecologic ca...  \n",
              "1  813557    ED-visits and through-ED admissions ...  \n",
              "2  757155    Artificial intelligence (AI) is a br...  \n",
              "3  942009    INTRODUCTION: Patients with coronavi...  \n",
              "4  843714    We report 3 patients with coronaviru...  "
            ],
            "text/html": [
              "\n",
              "  <div id=\"df-fe07bdae-4146-4538-9702-70a58a92b0b2\">\n",
              "    <div class=\"colab-df-container\">\n",
              "      <div>\n",
              "<style scoped>\n",
              "    .dataframe tbody tr th:only-of-type {\n",
              "        vertical-align: middle;\n",
              "    }\n",
              "\n",
              "    .dataframe tbody tr th {\n",
              "        vertical-align: top;\n",
              "    }\n",
              "\n",
              "    .dataframe thead th {\n",
              "        text-align: right;\n",
              "    }\n",
              "</style>\n",
              "<table border=\"1\" class=\"dataframe\">\n",
              "  <thead>\n",
              "    <tr style=\"text-align: right;\">\n",
              "      <th></th>\n",
              "      <th>body_text</th>\n",
              "      <th>abstract</th>\n",
              "    </tr>\n",
              "  </thead>\n",
              "  <tbody>\n",
              "    <tr>\n",
              "      <th>0</th>\n",
              "      <td>cancer prevalent cause mortality world common ...</td>\n",
              "      <td>68591    One of the most common gynecologic ca...</td>\n",
              "    </tr>\n",
              "    <tr>\n",
              "      <th>1</th>\n",
              "      <td>sarscov2 virus responsible covid19 disease fir...</td>\n",
              "      <td>813557    ED-visits and through-ED admissions ...</td>\n",
              "    </tr>\n",
              "    <tr>\n",
              "      <th>2</th>\n",
              "      <td>artificial intelligence ai methodology compute...</td>\n",
              "      <td>757155    Artificial intelligence (AI) is a br...</td>\n",
              "    </tr>\n",
              "    <tr>\n",
              "      <th>3</th>\n",
              "      <td>common feature patient admitted coronavirus di...</td>\n",
              "      <td>942009    INTRODUCTION: Patients with coronavi...</td>\n",
              "    </tr>\n",
              "    <tr>\n",
              "      <th>4</th>\n",
              "      <td>coronavirus disease covid19 caused severe acut...</td>\n",
              "      <td>843714    We report 3 patients with coronaviru...</td>\n",
              "    </tr>\n",
              "  </tbody>\n",
              "</table>\n",
              "</div>\n",
              "      <button class=\"colab-df-convert\" onclick=\"convertToInteractive('df-fe07bdae-4146-4538-9702-70a58a92b0b2')\"\n",
              "              title=\"Convert this dataframe to an interactive table.\"\n",
              "              style=\"display:none;\">\n",
              "        \n",
              "  <svg xmlns=\"http://www.w3.org/2000/svg\" height=\"24px\"viewBox=\"0 0 24 24\"\n",
              "       width=\"24px\">\n",
              "    <path d=\"M0 0h24v24H0V0z\" fill=\"none\"/>\n",
              "    <path d=\"M18.56 5.44l.94 2.06.94-2.06 2.06-.94-2.06-.94-.94-2.06-.94 2.06-2.06.94zm-11 1L8.5 8.5l.94-2.06 2.06-.94-2.06-.94L8.5 2.5l-.94 2.06-2.06.94zm10 10l.94 2.06.94-2.06 2.06-.94-2.06-.94-.94-2.06-.94 2.06-2.06.94z\"/><path d=\"M17.41 7.96l-1.37-1.37c-.4-.4-.92-.59-1.43-.59-.52 0-1.04.2-1.43.59L10.3 9.45l-7.72 7.72c-.78.78-.78 2.05 0 2.83L4 21.41c.39.39.9.59 1.41.59.51 0 1.02-.2 1.41-.59l7.78-7.78 2.81-2.81c.8-.78.8-2.07 0-2.86zM5.41 20L4 18.59l7.72-7.72 1.47 1.35L5.41 20z\"/>\n",
              "  </svg>\n",
              "      </button>\n",
              "      \n",
              "  <style>\n",
              "    .colab-df-container {\n",
              "      display:flex;\n",
              "      flex-wrap:wrap;\n",
              "      gap: 12px;\n",
              "    }\n",
              "\n",
              "    .colab-df-convert {\n",
              "      background-color: #E8F0FE;\n",
              "      border: none;\n",
              "      border-radius: 50%;\n",
              "      cursor: pointer;\n",
              "      display: none;\n",
              "      fill: #1967D2;\n",
              "      height: 32px;\n",
              "      padding: 0 0 0 0;\n",
              "      width: 32px;\n",
              "    }\n",
              "\n",
              "    .colab-df-convert:hover {\n",
              "      background-color: #E2EBFA;\n",
              "      box-shadow: 0px 1px 2px rgba(60, 64, 67, 0.3), 0px 1px 3px 1px rgba(60, 64, 67, 0.15);\n",
              "      fill: #174EA6;\n",
              "    }\n",
              "\n",
              "    [theme=dark] .colab-df-convert {\n",
              "      background-color: #3B4455;\n",
              "      fill: #D2E3FC;\n",
              "    }\n",
              "\n",
              "    [theme=dark] .colab-df-convert:hover {\n",
              "      background-color: #434B5C;\n",
              "      box-shadow: 0px 1px 3px 1px rgba(0, 0, 0, 0.15);\n",
              "      filter: drop-shadow(0px 1px 2px rgba(0, 0, 0, 0.3));\n",
              "      fill: #FFFFFF;\n",
              "    }\n",
              "  </style>\n",
              "\n",
              "      <script>\n",
              "        const buttonEl =\n",
              "          document.querySelector('#df-fe07bdae-4146-4538-9702-70a58a92b0b2 button.colab-df-convert');\n",
              "        buttonEl.style.display =\n",
              "          google.colab.kernel.accessAllowed ? 'block' : 'none';\n",
              "\n",
              "        async function convertToInteractive(key) {\n",
              "          const element = document.querySelector('#df-fe07bdae-4146-4538-9702-70a58a92b0b2');\n",
              "          const dataTable =\n",
              "            await google.colab.kernel.invokeFunction('convertToInteractive',\n",
              "                                                     [key], {});\n",
              "          if (!dataTable) return;\n",
              "\n",
              "          const docLinkHtml = 'Like what you see? Visit the ' +\n",
              "            '<a target=\"_blank\" href=https://colab.research.google.com/notebooks/data_table.ipynb>data table notebook</a>'\n",
              "            + ' to learn more about interactive tables.';\n",
              "          element.innerHTML = '';\n",
              "          dataTable['output_type'] = 'display_data';\n",
              "          await google.colab.output.renderOutput(dataTable, element);\n",
              "          const docLink = document.createElement('div');\n",
              "          docLink.innerHTML = docLinkHtml;\n",
              "          element.appendChild(docLink);\n",
              "        }\n",
              "      </script>\n",
              "    </div>\n",
              "  </div>\n",
              "  "
            ]
          },
          "metadata": {},
          "execution_count": 4
        }
      ]
    },
    {
      "cell_type": "code",
      "source": [
        "def tokenization(df,tokenizer):\n",
        "    \n",
        "    # tokenize in ids the body text and abstract\n",
        "    tokenized_output = list()\n",
        "    for i,j in zip(df['body_text'], df['abstract']):\n",
        "        f_tokenized = tokenizer(i, padding=\"max_length\", truncation=True)\n",
        "        l_tokenized = tokenizer(j, padding=\"max_length\", truncation=True)\n",
        "        tokenized_text ={ \n",
        "        'feature_input_ids': f_tokenized['input_ids'].flatten(),\n",
        "        'feature_attention_mask': f_tokenized['attention_mask'],\n",
        "        'feature_text': i,\n",
        "        'label_input_ids': l_tokenized['input_ids'].flatten(),\n",
        "        'label_attention_mask': l_tokenized['attention_mask'],\n",
        "        'label_text': j\n",
        "        }\n",
        "        \n",
        "        tokenized_output.append(tokenized_text)\n",
        "    return tokenized_output\n"
      ],
      "metadata": {
        "id": "Ur_PSzPKk_iI"
      },
      "execution_count": 5,
      "outputs": []
    },
    {
      "cell_type": "markdown",
      "source": [
        "## T5 model "
      ],
      "metadata": {
        "id": "Jc-SUrbyX9Kr"
      }
    },
    {
      "cell_type": "code",
      "source": [
        "import transformers\n",
        "\n",
        "model_name = 't5-small'\n",
        "model = transformers.AutoModelWithLMHead.from_pretrained(model_name)\n",
        "\n",
        "tokenizer = transformers.AutoTokenizer.from_pretrained(model_name)\n",
        "\n",
        "nlp_summarizer = transformers.pipeline('summarization', model = model, tokenizer = tokenizer)\n",
        "\n",
        "nlp_summarizer(sample['body_text'])\n",
        "\n"
      ],
      "metadata": {
        "colab": {
          "base_uri": "https://localhost:8080/"
        },
        "id": "VXwBwDZzLB5R",
        "outputId": "6823f5d9-1726-43ca-8455-ad5a803d2a28"
      },
      "execution_count": 6,
      "outputs": [
        {
          "output_type": "stream",
          "name": "stderr",
          "text": [
            "/usr/local/lib/python3.9/dist-packages/transformers/models/auto/modeling_auto.py:1295: FutureWarning: The class `AutoModelWithLMHead` is deprecated and will be removed in a future version. Please use `AutoModelForCausalLM` for causal language models, `AutoModelForMaskedLM` for masked language models and `AutoModelForSeq2SeqLM` for encoder-decoder models.\n",
            "  warnings.warn(\n",
            "/usr/local/lib/python3.9/dist-packages/transformers/models/t5/tokenization_t5_fast.py:155: FutureWarning: This tokenizer was incorrectly instantiated with a model max length of 512 which will be corrected in Transformers v5.\n",
            "For now, this behavior is kept to avoid breaking backwards compatibility when padding/encoding with `truncation is True`.\n",
            "- Be aware that you SHOULD NOT rely on t5-small automatically truncating your input to 512 when padding/encoding.\n",
            "- If you want to encode/pad to sequences longer than 512 you can either instantiate this tokenizer with `model_max_length` or pass `max_length` when encoding/padding.\n",
            "- To avoid this warning, please instantiate this tokenizer with `model_max_length` set to your preferred value.\n",
            "  warnings.warn(\n",
            "Token indices sequence length is longer than the specified maximum sequence length for this model (6431 > 512). Running this sequence through the model will result in indexing errors\n",
            "/usr/local/lib/python3.9/dist-packages/transformers/generation/utils.py:1201: UserWarning: You have modified the pretrained model configuration to control generation. This is a deprecated strategy to control generation and will be removed soon, in a future version. Please use a generation configuration file (see https://huggingface.co/docs/transformers/main_classes/text_generation)\n",
            "  warnings.warn(\n"
          ]
        },
        {
          "output_type": "execute_result",
          "data": {
            "text/plain": [
              "[{'summary_text': 'ovarian cancer one common type of cancer identified iiiv stage . inability early diagnosis nearly nonspecific symptom common type cancer . hla allele significant since hold response .'}]"
            ]
          },
          "metadata": {},
          "execution_count": 6
        }
      ]
    },
    {
      "cell_type": "code",
      "source": [
        "# import torch\n",
        "# import transformers\n",
        "\n",
        "# model_name = 't5-small'\n",
        "# device = torch.device('cuda' if torch.cuda.is_available() else 'cpu')\n",
        "# t5_model = transformers.AutoModelWithLMHead.from_pretrained(model_name).to(device)\n",
        "# t5_tokenizer = transformers.AutoTokenizer.from_pretrained(model_name)\n",
        "\n",
        "# input_text = sample[\"body_text\"]\n",
        "# input_ids = t5_tokenizer.encode(input_text, truncation=True, padding=\"longest\", return_tensors='pt', max_length=500).to(device)\n",
        "# nlp_summarizer = transformers.pipeline('summarization', model=t5_model, tokenizer=t5_tokenizer, device=device.index if torch.cuda.is_available() else -1)\n",
        "# output = nlp_summarizer(input_text)"
      ],
      "metadata": {
        "id": "KTrrP0aZgRmj"
      },
      "execution_count": 7,
      "outputs": []
    },
    {
      "cell_type": "markdown",
      "source": [
        "## Pegasus Model"
      ],
      "metadata": {
        "id": "bjQHvdGYYAfD"
      }
    },
    {
      "cell_type": "code",
      "source": [
        "from transformers import PegasusForConditionalGeneration, PegasusTokenizer\n",
        "\n",
        "src_text = sample['body_text']\n",
        "\n",
        "model_name = \"google/pegasus-xsum\"\n",
        "device = \"cuda\" if torch.cuda.is_available() else \"cpu\"\n",
        "tokenizer = PegasusTokenizer.from_pretrained(model_name)\n",
        "model = PegasusForConditionalGeneration.from_pretrained(model_name).to(device)\n",
        "batch = tokenizer(src_text, truncation=True, padding=\"longest\", return_tensors=\"pt\").to(device)\n",
        "translated = model.generate(**batch)\n",
        "tgt_text = tokenizer.batch_decode(translated, skip_special_tokens=True)\n",
        "print(tgt_text)"
      ],
      "metadata": {
        "colab": {
          "base_uri": "https://localhost:8080/"
        },
        "id": "SMInhxrPa-cX",
        "outputId": "5a7007cd-80ec-48ac-aa25-a41ecb336901"
      },
      "execution_count": 8,
      "outputs": [
        {
          "output_type": "stream",
          "name": "stderr",
          "text": [
            "/usr/local/lib/python3.9/dist-packages/transformers/generation/utils.py:1288: UserWarning: Using `max_length`'s default (64) to control the generation length. This behaviour is deprecated and will be removed from the config in v5 of Transformers -- we recommend using `max_new_tokens` to control the maximum length of the generation.\n",
            "  warnings.warn(\n"
          ]
        },
        {
          "output_type": "stream",
          "name": "stdout",
          "text": [
            "['ovarian cancer one common type cancer woman.']\n"
          ]
        }
      ]
    },
    {
      "cell_type": "code",
      "source": [
        "from transformers import PegasusForConditionalGeneration, PegasusTokenizer\n",
        "\n",
        "src_text = sample['body_text']\n",
        "\n",
        "model_name = \"google/pegasus-large\"\n",
        "device = \"cuda\" if torch.cuda.is_available() else \"cpu\"\n",
        "tokenizer = AutoTokenizer.from_pretrained(model_name)\n",
        "# tokenizer = PegasusTokenizer.from_pretrained(model_name)\n",
        "\n",
        "model = PegasusForConditionalGeneration.from_pretrained(model_name).to(device)\n",
        "batch = tokenizer(src_text, truncation=True, padding=\"longest\", return_tensors=\"pt\",max_length= 500).to(device)\n",
        "translated = model.generate(**batch)\n",
        "tgt_text = tokenizer.batch_decode(translated, skip_special_tokens=True)\n",
        "print(tgt_text)"
      ],
      "metadata": {
        "colab": {
          "base_uri": "https://localhost:8080/"
        },
        "id": "C74safj9l0qc",
        "outputId": "bd198363-96f2-4a5d-9a1a-2d68abd2583e"
      },
      "execution_count": 15,
      "outputs": [
        {
          "output_type": "stream",
          "name": "stderr",
          "text": [
            "/usr/local/lib/python3.9/dist-packages/transformers/generation/utils.py:1288: UserWarning: Using `max_length`'s default (256) to control the generation length. This behaviour is deprecated and will be removed from the config in v5 of Transformers -- we recommend using `max_new_tokens` to control the maximum length of the generation.\n",
            "  warnings.warn(\n"
          ]
        },
        {
          "output_type": "stream",
          "name": "stdout",
          "text": [
            "['endometrioid 13 mucinous 13 clear cell cancer 6 three prevalent type ovarian cancer coburn. benign ovarian tumor recommended threat indicator precursor epithelial ovarian cancer ovarian cancer benign ovarian tumor share equivalent etiological risk factor jordan sj green ac whiteman dc webb pm study ac 2007. clear cell endometrioid tumor wellthoughtout caused establishing endometrium ovary throughout retrograde menstruation kurman 2016. different reason predicting greater mortality rate ovarian cancer like nonsymptomatic stealthy progression malignant tumorous cell slow progression disease symptom lastly lacking specific method diagnosis cancer even advanced stage. 4.1 per 100000 compared 21290 case 14180 death related ovarian cancer usa 2015.']\n"
          ]
        }
      ]
    },
    {
      "cell_type": "code",
      "source": [
        "sample['body_text']"
      ],
      "metadata": {
        "colab": {
          "base_uri": "https://localhost:8080/",
          "height": 127
        },
        "id": "61heEvy9rLJy",
        "outputId": "d36ae31b-2896-496a-8dcf-65aa0f5b863c"
      },
      "execution_count": 10,
      "outputs": [
        {
          "output_type": "execute_result",
          "data": {
            "text/plain": [
              "'cancer prevalent cause mortality world common hindrance country achieving desired life expectancy . ovarian cancer one common type cancer woman . guleria . 2020 . ovarian cancer extremely lethal nastiest prognosis ailment . inability early diagnosis nearly nonspecific symptom common ovarian cancer identified iiiiv stage . five major histological form ovarian cancer identified epithelial edward . 2016 torre . 2018 siegel miller 2016 . endometrioid 13 mucinous 13 clear cell cancer 6 three prevalent type ovarian cancer coburn . 2017 . benign ovarian tumor recommended threat indicator precursor epithelial ovarian cancer ovarian cancer benign ovarian tumor share equivalent etiological risk factor jordan sj green ac whiteman dc webb pm study ac 2007 . also proposed fallopian tube may also contribute origination ovarian cancer distal end fallopian tube predecessor lesion ovary could progress severe ovarian tumor kurman 2016 . clear cell endometrioid tumor wellthoughtout caused establishing endometrium ovary throughout retrograde menstruation kurman 2016 . due heterogeneous nature development origin mucinous cancer well established guleria . 2020 . although ovarian cancer lower occurrence breast cancer considered three time lethal breast cancer . year 2020 mortality rate ovarian cancer considered raised significantly . different reason predicting greater mortality rate ovarian cancer like nonsymptomatic stealthy progression malignant tumorous cell slow progression disease symptom lastly lacking specific method diagnosis cancer even advanced stage . cancer given name ‘ silent killer ’ henriksen . 2020 danilova . 2020 yousefi . 2017 . ovarian cancer oc caused estimated 239000 new case 153000 death annually around globe . highest rate ratio 11.4 per 100000 6.0 per 100000 correspondingly observed central eastern europe . low incidence rate observed china i.e . 4.1 per 100000 compared 21290 case 14180 death related ovarian cancer usa 2015 . contrast estimated 52100 fresh case 22500 expiry year china yousefi . 2017 . treatment far ideal surgery radiotherapy chemotherapy conventional treatment strategy used far however option significant limitation effective numerous case henriksen . 2020 . current era multiple immunotherapy technique enabled advance oncology including recombinant cytokine immune checkpoint inhibitor tcellmediated adaptive therapy dendritic cell dcbased vaccine danilova . 2020 yousefi . 2017 . cancertesticular antigen cta overexpressed tumor expressing condition case normal healthy cell ’ preferred target among tta . aguilera . 2011 tio . 2019 . reported different patient show different profile level cta expression diagnosis seledtsov goncharov 2015 li . 2002 garciasoto . 20172014 faramarzi ghafourifard 2017 kulkarni uversky vnjijoms . 2017 . generally two group ctas non x ctas coded chromosome autosome ctx antigen present x chromosome tio . 2019 . reported recent clinical trial cancer vaccine showed promising benefit melero . 2014 . besides aiding potential target cancer vaccine ctas also play part developing cancerous cell survival anderson . 1984 gjerstorff . 2015 . remarkable advancement developmental technique observed using bioinformatics tool immunoinformatics twentyfirst century . degree viral vaccine progress elevated reverse structural vaccinology cali . 2013 . using tool technique antigenicity protein anticipated easily significant amount accuracy dimitrov . 2017 . different kind antigenic determinant adjuvant selected increase efficiency preparation subunit vaccine . help improve immune system host immune response gupta . 2013 . use immunoinformatics recently intensified model peptide vaccine virus shahid . 2020 tahir ul qamar shokat z muneer ashfaq ua javed h anwar f . 2002 khalid ashfaq 2020 mt ul qamar . 2020 mt ul qamar rehman ashfaq ua awan mq fatima shahid f . 2020 parasite yadav . 2020 kar srivastava 2018 bacteria nezafat . 2017 hajighahramani . 2017 mamede . 2008 mahmood . 2021 . bioinformatics progression technology become new track predicting vulnerable epitope designing mev i.e . multiepitopebased subunit vaccine trigger humeral cellularbased immune response body saha 2006 altschul . 1990 . herein multiepitope subunit vaccine designed treat ovarian cancer . vaccine planned constructed predicting epitope targeted cancer testis antigen nyeso1 akap4 acrbp spage9 magea9 ct45a3 piwil3 lage1 . gmcsf used immune modulator also utilized . augmenting cellmediated antibodymediated immunity gmcsf also incorporated peptide . selected class class ii epitope joined using pertinent linkers . several immunoinformatics tool used evaluate validate vaccine capability immunotherapy ovarian cancer . purpose study employ computational approach along reverse vaccinology develop multiepitopes subunit vaccination mev ovarian cancer treatment enhance cellular humoral immunogenicity . although proposed multiepitope vaccine model potential impact development prospective vaccine research needed . conclude laboratory testing subsequent pharmacological trial required demonstrate efficacy potential . complete workflow study illustrated fig . . six cancertestis antigen ovarian cancer nyeso1 akap4 acrbp piwil3 lage1 taken target . amino acid sequence retrieved uniprot . vaxijen v.2.0 online tool httpwww.ddgpharmfac.netvaxijenvaxijenvaxijen.html utilized identify protein strong antigenicity . tool evaluates antigenic property based alignmentfree method chiefly analyzes physiochemical property doytchinova flower drjbb . 2007 . vaxijen v.2.0 requires protein sequence fasta format . therefore protein sequence fasta format added threshold set 0.5 . finally protein showing acceptable antigenicity physiochemical property tested similarity index human protein purpose blastp utilized . tcells epitope prediction significant step design vaccine make whole procedure costeffective also comparison laboratory experiment lessens time required entire protocol saha 2006 zhang . 2004 . identify tcell epitope immune epitope database analysis resource iedbar version 2.22 httpswww.iedb.org vita . 2018 employed . online server provides many tool estimation assessment antigenic epitope . protein sequence submitted fasta format consensus method elected prediction method human chosen source specie offered allele selected forecast epitope . entire forecasted epitope additionally investigated side side diverse online bioinformatics tool i.e . vaxijen v2.0 engaged ass antigenic character iedbar v.2.22 mhci immunogenicity tool employed recognizing immunogenicity allergenfp v1.0 dimitrov . 2014 utilized inquiring allergenic character toxin pred online tool yadav . 2020 betrothed calculate toxicity anticipated epitope . allergenfp server computes descriptorbased alignmentfree fingerprint protocol recognize allergenic character peptide 88.9 accuracy dimitrov . 2014 . toxin pred online tool involves machinelearning quantitative matrix predict toxicity gupta . 2013 . transmembrane nature epitope evaluated tmhmm server chen . 2003 . recognition bcells epitope bces vital step designing mevs release antibody lead generation humoral immunity . linear bces identified via abcpred online server httpcrdd.osdd.netraghavaabcpred . employ neural networkingbased methodology recognize bces saha 2006 . threshold amino acid length fixed 0.5 14 respectively . finally selected bces evaluated antigenic allergic immunogenic toxic profile vaxijen v2.0 allergenfp v1.0 iedbar v.2.22 mhci immunogenicity toxinpred respectively . evaluate binding efficiency selected htl ctl epitope subjected pepfold v3.0 server httpsbioserv.rpbs.univparisdiderot.frservicespepfold3 prediction peptide structure utilizing sopep sorting scheme 200 simulation lamiable . 2016 . hlas crystal structure downloaded rcsb pdb httpswww.rcsb.org berman . 2003 . cluspro httpscluspro.bu.edulogin.php docking performed . create visualize docked complex pymol molecular graphic system v.1.3 used pymol 2002 . hla allele distribution differs various cultural group geographical constituency sphere making population coverage important parameter constructing mev . current study calculated collective population coverage shortlisted htl ctl epitope identical hla allele iedb population coverage tool vita . 2019 . immunoinformatics tool used designing vaccine sequence . design vaccine ctl htl highscoring epitope linked correlated linkers . furthermore gmcsf supplemented adjuvant nterminal enhance immunogenicity . homology host protein prompt autoimmunity . ncbi blastp online server httpsblast.ncbi.nlm.nih.govblast.cgipageproteins utilized determine homology constructed mev human proteome altschul . 1990 . primary sequence vaccine ’ protein added fasta format homo sapiens taxid9606 taken target organism blast run without changing parameter . different online tool adopted evaluate final vaccine construct physicochemical property antigenicity allergenicity . vaxijen v2.0 accessed predict antigenic behavior mev construct whereas allertop v2.0 httpwww.ddgpharmfac.netallertop adopted evaluate allergenicity . allertop includes alignmentfree estimation allergenic character protein assessing chief physicochemical property dimitrov . 2017 . protparam tool expasy used recognize different physiochemical effect final mev protein instance theoretical pi grand average hydropathicity gravy aliphatic index stability index molecular weight expected halflife mammal cell yeast e. coli . solubility predicted solpro tool magnan . 2009 . sopma used predict secondary structure vaccine ’ protein deléage 2017 . tool measured level extended strand alpha helix random coil betaturn . two graph included result . one show prediction alternative show score curve expected position . prediction tertiary structure mev itasser used zhang yjbb . 2008 . using computer algorithm 3d model protein generated amino acid sequence . based iterative template fragment assembly simulation multiplethreading alignment server predicts threedimensional protein structure . itasser offer confidence score determination accuracy model predicted . galaxyrefine web server httpgalaxy.seoklab.org used modify forecasted exemplary vaccine ko . 2012 . first galaxyrefine webserver reconstructs side chain performs structural repacking overall structural relaxation using molecular dynamic . prosaweb errat server ramachandran plot analysis used identify error predicted tertiary structure wiederstein sippl mjjnar . 2007 xia . 1992 lovell . 2003 . prosaweb provides typical quality score input construction . moreover evaluation notlinked atom–atom interaction errat server used . conclusively ramachandran plot used evaluate energetically forbidden permitted angle dihedral angle psi phi . linear bces conformational bces constructed mev identified using abcpred online server ellipro tool iedbar v.2.22 . abcpred server mev amino acid sequence given input threshold set 0.5 amino acid length fixed 14 . contrast parameter ellipro tool set default mev 3d structure given input . pymol employed visualize discontinuous epitope final mev construct delano wljcnopc . 2002 . disulfide engineering new method adding disulfide bond amino acid protein structure . disulfide bond covalent bond imparts significant firmness protein structure authorizing accurate geometric conformation . disulfide design v2.12 online tool employed disulfide engineering mev protein . residuepair search done using refined mev structure possible residue pair recognized mutation cysteine residue taken concluding target chen . 2003 . residue energy score lesser 2.2 kcalmol χ3 angle within range − 87 97° considered formation disulfide linkage craig dombkowski aajbb . 2013 . insilico immune simulation performed cimmsim 10.1 server validate designed mevs multiepitope vaccine immunological response . 3 constituent efficient mammal structure thymus lymph node bone marrow stimulated cimmsim rapin . 2010 . minimum 30day interval two dos considered . three injection administered insilico time stage 84 168 respectively onetime step equal 8 h real life . maximum value set 1000 simulation step stimulation parameter maintained default . soon property insilico immune simulation fabricated mev examined prudently java codon adaptation tool used optimize codon grote . 2020 . codon optimization procedure commonly utilized ameliorate gene expression enhance translational efficiency gene interest inserting codon biased host organism burgessbrown . 2008 . codon optimization mev done e. coli k12 prokaryotic expression system . three available option chosen identify cleavage site restriction enzyme binding site prokaryote ribosome 3 rhoindependent transcription termination . gc content codon adaptation index cai value noted checked whether fall acceptable range 30–70 gc content 0.8 cai sharp 1987 . addition constraint cloning adapted mev sequence accelerated adding bamhi hindiii restriction site c nterminals correspondingly . altered sequence taken silico cloning mean snapgene v4.2 tool httpssnapgene.com . cloning completed vector e. coli pet30a authenticate expression sequence invitro system . amino acid sequence six cancertestis antigen ovarian cancer retrieved uniprot . protein name accession enlisted table . antigenicity protein assessed vaxijen v.2.0 outcome presented protein antigenic . therefore sequence protein submitted blastp identify similarity human protein . finding blastp showed protein noticeable resemblance human protein hence protein chosen analysis . iedb consensus method adopted forecast tcell including mhci mhcii epitope target protein . owing strong defensive capability epitope showing interaction one allele taken appropriate epitope . conservancy predicted epitope within protein sequence determined iedb conservancy analysis tool . allergenicity antigenicity evaluated allergen fp 1.0 vaxijen . total 76 ctl epitope ny7 ak25 ac10 pi27 la7 additional file table s1 37 htl epitope ny1 ak11 ac4 pi19 la2 shortlisted additional file table s2 . linearcontinuous b cell epitope lbl target protein identified abcpred server . like cell epitope selected lbl antigenic nonallergenic 100 conserved . based criterion 160 lbl epitope ny11 ak48 ac36 pi14 la51 predicted additional file table s3 . criterion intended include epitope mev 100 conserved among protein significantly antigenicimmunogenic nontoxic nonallergenic within glycosylation site posttranslation modification site particular protein transmembrane helix . therefore epitope satisfying criterion mentioned selected analysis . total 14 ctl epitope ny3 ak3 ac3 pi2 la3 5 htl epitope ny1 ak1 ac1 pi2 chosen mev designing table . selected ctl htl epitope vaccine construction overlap b cell epitope . structure epitope predicted via pepfold server . molecular docking performed via cluspro server analyze interaction hla allele selected cell epitope . observed identified epitope attached deeply within binding pocket respective allele fig . . used mev construct chosen epitope displayed substantial binding ability appropriateness used vaccine construct . hla allele ’ distribution differed among different country various geographical constituency world . population coverage compulsory vital constraint identify vaccine validation . herein calculated class class ii epitope ’ population coverage along respective allele . global population coverage selected epitope found 97.59 . highest population coverage 98.62 observed south asia followed europe north america coverage reported 98.47 97.97 respectively fig . 3 . mev construct designed using selected epitope . two motif including aay heygaealerag used connect ctl epitope . moreover via gpgpg linker predicted htl epitope combined . adjuvant attached using linkers . final mev construct found consist 547 amino acid including adjuvant linkers fig . 4 . construction vector based structure physical immunol property characteristic . homology first checked human proteomics available data outcome thus obtained contained similarity region human proteomics . secondly mev evaluated antigenicity toxicity allergenicity . analysis found constructed mev extremely antigenic antigenic score 0.6299 threshold 0.5 potentially harmless . moreover physiochemical property mev also evaluated using protparam online tool . vaccine protein found stable molecular weight 60453.00 da . theoretical pi gravy reported 6.09 − 0.421 negative sign show hydrophilic nature respectively . mean halflife mev measured e. coli yeast cell respectively . mev found soluble probability score 0.864380 . property showed constructed mev outstanding potential act vaccine . predict tertiary structure designed mev itasser used cscore − 1.35 . model number 3 identified excellentoptimized model based different parameter used galaxyrefine server rmsd clash score rama favored etc . comparison model . selected model chosen finalized vaccine model rough model undergone structural evaluation fig . 5a . refined model zscore calculated − 6.09 fig . 5c . according ramachandran plot analysis 85.1 residue favored region 3.0 disallowed region 0.9 highly allowed region 11.0 allowed region fig . 5b . moreover refined model errat score 82.4953 . disulfide design v2.0 used carry disulfide engineering enhance stability mev ’ refined model . total 25 residue pair could used purpose . nonetheless four residue pair showed energy chi3 value within normal range . therefore finalized disulfide engineering purpose . consequently eight mutation introduced residue pair i.e . ala 171gly 205 energy 1.36 kcalmol chi3 value 73.04 gly 205arg 210 energy 0.58 kcalmol chi3 value 90.90 glu 209tyr 265 energy 1.86 kcalmol chi3 value 85.94 trp 253ser 261 energy 1.81 kcalmol chi3 value − 68.32 . fig . 6 . besides releasing cytokine blymphocytes also provide humoral immunity producing antibody . hence mev ideally b cell epitope domain . thirtyeight linear b cell epitope additional file table s1 eight conformational b cell epitope additional file table s2 predicted finalized mev construct without altering abcpred 2.0 ellipro prediction parameter . pymol facilitated visualizing conformational b cell epitope 3d structure mev construct fig . 7 . real immune system immune response result threshold response produced primary secondary immunity response . silico host immune system reaction antigen shown fig . 8 . igg igg igm concentration continually elevated primary immune response preceded igg1 igg2 igm igg1 equally primary secondary immune response accompanying antigen reduction . furthermore evaluate vaccine cytokine interleukin response also observed . analysis revealed vaccine decent immune response subsequent encounter . guarantee translation mev infrequently used e.coli host silico cloning accomplished . jcat server used refine mev codon following e.coli strain k12 expression system cloning . optimized mev sequence comprises 1641 nucleotide cai value 0.98 gc content 56.00 showing high potential reliability positive protein expression . insilico cloning executed validate expression mev host cell . stride supported supplementation two restriction site bamhi hindiii end mev optimized nucleotide sequence . modified sequence cloned pet30a vector multiple cloning site fig . 9 . entire clone size 7052 bp . ovarian cancer still deadliest gynecologic cancer . lack effective screening strategy result 75 percent woman diagnosed ovarian cancer advanced stage survival rate 46 percent five year diagnosis lheureux . 2019 . typical treatment plan ovarian cancer involves surgery chemotherapy . 80 percent patient respond initial therapy majority recur require additional therapy . major obstacle treatment recurrent ovarian cancer chemotherapyresistant disease develops course multiple therapy schaar . 2018 . demonstrates need new therapeutic intervention including development immunotherapy ovarian cancer treatment . cellular therapy immune checkpoint inhibition cancer vaccine current immunotherapeutic option . vaccinebased therapy aim stimulate innate adaptive immune response ovarian cancerassociated antigen . immune response crucial fight malignancy viral infection . antigenic epitope fundamental unit induces either cellular humoral immune response . therefore multiepitope vaccine composed series overlapped peptide would good option treating preventing viral tumor infection . ideally multiepitope vaccine would include epitope elicit bcell thelper th ctl response targeted virus tumor buonaguro l consortium h 2016 . immuneinformatics tool provide valuable facility accurate design vaccine achieve aim . different computational study demonstrated viability precision speed insilico tool study design multiple epitope various chronic disorder including cancer pourseif . 2005 2018 . vaccine ’ effectiveness determined selection correct ctl epitope chief element adjuvant htl epitope burg . 2006 . moreover produce protein desired functionality required fuse component . also say protein may various characteristic choosing appropriate linkers . therefore suitable linkers must utilized development peptide vaccine . general administered appropriate adjuvant peptide vaccine nature induce antigenspecific tcell response . importantly adjuvant considered crucial constituent inside peptide vaccine maximize dendritic cell ’ functioning create effective immune reaction . vaccine designed predicting epitope targeted cancer testis antigen ie nyeso1 akap4 acrbp spage9 magea9 ct45a3 piwil3 lage1 . adjuvant must added multiepitope vaccine achieve sufficient immunogenicity meza . 2017 . ability gmcsfbased vaccine preclinical study inducing strong response virus tumor demonstrated ahlers . 2002 . ability help activate dendritic cell gmcsf induced antitumor immunity mechanism connects cell dendritic cell . consequently antitumor response generated via gmcsf effectively using gmcsf immune adjuvant candidate yan . 2017 . structural functional activity proteinbased vaccine mainly dependent linkers . current study different linkers utilized vaccine development . two selected motif including aay heygaealerag used connect ctl epitope . heygaalerag sequence provides particular site cleavage system responsible proteasomal lysosomal degradation . besides aay sequence epitope presentation improved . cleavage cterminal bind chaperon transporter like tap others bergmann . 1996 gu . 2013 . moreover thelper component predicted study joined together via gpgpg linker . gpgpg linkers induce conserve conformational dependent immunity also stimulate antibody htl response . eaaak another sequence acting linkers monitoring molecular distance minimizing domain interference . eventually current vaccine construct built linking adjuvant htl epitope ctl epitope main component vaccine livingston . 2002 . molecular weight final constructed vaccine 42.15 kda show homology portion human proteome . furthermore recombinant mev protein showed excellent solubility upon overexpression e.coli host making easy access host khatoon pandey 2017 . instability index depicted protein stable nature upon expression augmenting usage capacity . theoretical pi 9.39 show mev strongly alkaline consistently connects physiological ph range . moreover aliphatic index gravy score represented thermostable hydrophobic nature respectively ismail . 2020 ikram . 2018 tahir ul qamar shokat z muneer ashfaq ua javed h anwar f . 2020 . hla allele significant since hold response tcell epitope nevertheless grounded background allele astonishingly polymorphic . tcell epitope expected depict binding affinity many hla allele population coverage achieved . outcome demonstrated selected epitope respective allele found major geographical area world global population coverage 97.59 . modeling 3d structure provides outstanding support estimation protein dynamic function interaction capability protein . therefore 3d structure mev predicted desirable property considerably increased refinement . ramachandran plot analysis errat quality factor zscore verified excellent quality model . bcell epitope predicted mev construct determine whether contained enough epitope antibody detect latch onto flavivirus 1990 . immunoreactivity testing serological assessment fundamental step authenticate vaccine construct gori . 2013 . expression foreign gene may differ inside genome host cell . variation inconsistency mrna codon therefore required optimize codon ensure higher expression level host cell pandey . 2018 . cai 58.46 gc 1.0 content optimized codon showed promising outcome higher protein expression e. coli expression system extensively used synthesis recombinant protein chen rjba . 2012 rosano 2014 . recent study mev construct designed using nextgeneration vaccine approach skilled producing threshold immunity reaction ovarian cancer . furthermore active immune response observed real life immune stimulation . wet lab inquiry highly needed validate actual potential combat ovarian cancer . proposed multiepitope vaccine model combined immunological data computational analysis may impact development prospective vaccine . conclude estimated amount vaccine model pose positive effect treating ovarian cancer . moreover present work outcome integrated vaccinomics approach . thus laboratory testing subsequent pharmacological trial required prove efficacy potential developed mev .'"
            ],
            "application/vnd.google.colaboratory.intrinsic+json": {
              "type": "string"
            }
          },
          "metadata": {},
          "execution_count": 10
        }
      ]
    },
    {
      "cell_type": "code",
      "source": [],
      "metadata": {
        "id": "wPNn59LUrfjV"
      },
      "execution_count": null,
      "outputs": []
    },
    {
      "cell_type": "markdown",
      "source": [
        "## Fine Tuning"
      ],
      "metadata": {
        "id": "XFdIlVlRa_iF"
      }
    },
    {
      "cell_type": "code",
      "source": [
        "sm_train_article = train_article.iloc[:10]\n",
        "sm_train_article.head()"
      ],
      "metadata": {
        "colab": {
          "base_uri": "https://localhost:8080/",
          "height": 206
        },
        "id": "vGGVwUF_0vnx",
        "outputId": "f2d0b9a5-4287-4b15-f1cd-4baa9501c635"
      },
      "execution_count": 12,
      "outputs": [
        {
          "output_type": "execute_result",
          "data": {
            "text/plain": [
              "                                           body_text  \\\n",
              "0  cancer prevalent cause mortality world common ...   \n",
              "1  sarscov2 virus responsible covid19 disease fir...   \n",
              "2  artificial intelligence ai methodology compute...   \n",
              "3  common feature patient admitted coronavirus di...   \n",
              "4  coronavirus disease covid19 caused severe acut...   \n",
              "\n",
              "                                            abstract  \n",
              "0  68591    One of the most common gynecologic ca...  \n",
              "1  813557    ED-visits and through-ED admissions ...  \n",
              "2  757155    Artificial intelligence (AI) is a br...  \n",
              "3  942009    INTRODUCTION: Patients with coronavi...  \n",
              "4  843714    We report 3 patients with coronaviru...  "
            ],
            "text/html": [
              "\n",
              "  <div id=\"df-6b1a0d7b-c103-4719-b5f3-f1ee1e8fadc3\">\n",
              "    <div class=\"colab-df-container\">\n",
              "      <div>\n",
              "<style scoped>\n",
              "    .dataframe tbody tr th:only-of-type {\n",
              "        vertical-align: middle;\n",
              "    }\n",
              "\n",
              "    .dataframe tbody tr th {\n",
              "        vertical-align: top;\n",
              "    }\n",
              "\n",
              "    .dataframe thead th {\n",
              "        text-align: right;\n",
              "    }\n",
              "</style>\n",
              "<table border=\"1\" class=\"dataframe\">\n",
              "  <thead>\n",
              "    <tr style=\"text-align: right;\">\n",
              "      <th></th>\n",
              "      <th>body_text</th>\n",
              "      <th>abstract</th>\n",
              "    </tr>\n",
              "  </thead>\n",
              "  <tbody>\n",
              "    <tr>\n",
              "      <th>0</th>\n",
              "      <td>cancer prevalent cause mortality world common ...</td>\n",
              "      <td>68591    One of the most common gynecologic ca...</td>\n",
              "    </tr>\n",
              "    <tr>\n",
              "      <th>1</th>\n",
              "      <td>sarscov2 virus responsible covid19 disease fir...</td>\n",
              "      <td>813557    ED-visits and through-ED admissions ...</td>\n",
              "    </tr>\n",
              "    <tr>\n",
              "      <th>2</th>\n",
              "      <td>artificial intelligence ai methodology compute...</td>\n",
              "      <td>757155    Artificial intelligence (AI) is a br...</td>\n",
              "    </tr>\n",
              "    <tr>\n",
              "      <th>3</th>\n",
              "      <td>common feature patient admitted coronavirus di...</td>\n",
              "      <td>942009    INTRODUCTION: Patients with coronavi...</td>\n",
              "    </tr>\n",
              "    <tr>\n",
              "      <th>4</th>\n",
              "      <td>coronavirus disease covid19 caused severe acut...</td>\n",
              "      <td>843714    We report 3 patients with coronaviru...</td>\n",
              "    </tr>\n",
              "  </tbody>\n",
              "</table>\n",
              "</div>\n",
              "      <button class=\"colab-df-convert\" onclick=\"convertToInteractive('df-6b1a0d7b-c103-4719-b5f3-f1ee1e8fadc3')\"\n",
              "              title=\"Convert this dataframe to an interactive table.\"\n",
              "              style=\"display:none;\">\n",
              "        \n",
              "  <svg xmlns=\"http://www.w3.org/2000/svg\" height=\"24px\"viewBox=\"0 0 24 24\"\n",
              "       width=\"24px\">\n",
              "    <path d=\"M0 0h24v24H0V0z\" fill=\"none\"/>\n",
              "    <path d=\"M18.56 5.44l.94 2.06.94-2.06 2.06-.94-2.06-.94-.94-2.06-.94 2.06-2.06.94zm-11 1L8.5 8.5l.94-2.06 2.06-.94-2.06-.94L8.5 2.5l-.94 2.06-2.06.94zm10 10l.94 2.06.94-2.06 2.06-.94-2.06-.94-.94-2.06-.94 2.06-2.06.94z\"/><path d=\"M17.41 7.96l-1.37-1.37c-.4-.4-.92-.59-1.43-.59-.52 0-1.04.2-1.43.59L10.3 9.45l-7.72 7.72c-.78.78-.78 2.05 0 2.83L4 21.41c.39.39.9.59 1.41.59.51 0 1.02-.2 1.41-.59l7.78-7.78 2.81-2.81c.8-.78.8-2.07 0-2.86zM5.41 20L4 18.59l7.72-7.72 1.47 1.35L5.41 20z\"/>\n",
              "  </svg>\n",
              "      </button>\n",
              "      \n",
              "  <style>\n",
              "    .colab-df-container {\n",
              "      display:flex;\n",
              "      flex-wrap:wrap;\n",
              "      gap: 12px;\n",
              "    }\n",
              "\n",
              "    .colab-df-convert {\n",
              "      background-color: #E8F0FE;\n",
              "      border: none;\n",
              "      border-radius: 50%;\n",
              "      cursor: pointer;\n",
              "      display: none;\n",
              "      fill: #1967D2;\n",
              "      height: 32px;\n",
              "      padding: 0 0 0 0;\n",
              "      width: 32px;\n",
              "    }\n",
              "\n",
              "    .colab-df-convert:hover {\n",
              "      background-color: #E2EBFA;\n",
              "      box-shadow: 0px 1px 2px rgba(60, 64, 67, 0.3), 0px 1px 3px 1px rgba(60, 64, 67, 0.15);\n",
              "      fill: #174EA6;\n",
              "    }\n",
              "\n",
              "    [theme=dark] .colab-df-convert {\n",
              "      background-color: #3B4455;\n",
              "      fill: #D2E3FC;\n",
              "    }\n",
              "\n",
              "    [theme=dark] .colab-df-convert:hover {\n",
              "      background-color: #434B5C;\n",
              "      box-shadow: 0px 1px 3px 1px rgba(0, 0, 0, 0.15);\n",
              "      filter: drop-shadow(0px 1px 2px rgba(0, 0, 0, 0.3));\n",
              "      fill: #FFFFFF;\n",
              "    }\n",
              "  </style>\n",
              "\n",
              "      <script>\n",
              "        const buttonEl =\n",
              "          document.querySelector('#df-6b1a0d7b-c103-4719-b5f3-f1ee1e8fadc3 button.colab-df-convert');\n",
              "        buttonEl.style.display =\n",
              "          google.colab.kernel.accessAllowed ? 'block' : 'none';\n",
              "\n",
              "        async function convertToInteractive(key) {\n",
              "          const element = document.querySelector('#df-6b1a0d7b-c103-4719-b5f3-f1ee1e8fadc3');\n",
              "          const dataTable =\n",
              "            await google.colab.kernel.invokeFunction('convertToInteractive',\n",
              "                                                     [key], {});\n",
              "          if (!dataTable) return;\n",
              "\n",
              "          const docLinkHtml = 'Like what you see? Visit the ' +\n",
              "            '<a target=\"_blank\" href=https://colab.research.google.com/notebooks/data_table.ipynb>data table notebook</a>'\n",
              "            + ' to learn more about interactive tables.';\n",
              "          element.innerHTML = '';\n",
              "          dataTable['output_type'] = 'display_data';\n",
              "          await google.colab.output.renderOutput(dataTable, element);\n",
              "          const docLink = document.createElement('div');\n",
              "          docLink.innerHTML = docLinkHtml;\n",
              "          element.appendChild(docLink);\n",
              "        }\n",
              "      </script>\n",
              "    </div>\n",
              "  </div>\n",
              "  "
            ]
          },
          "metadata": {},
          "execution_count": 12
        }
      ]
    },
    {
      "cell_type": "code",
      "source": [
        "import pyarrow as pa\n",
        "import pyarrow.dataset as ds\n",
        "import pandas as pd\n",
        "from datasets import Dataset\n",
        "\n",
        "### convert to Huggingface dataset\n",
        "sm_train_db = Dataset(pa.Table.from_pandas(sm_train_article))"
      ],
      "metadata": {
        "id": "hEVGyhUQ0o8z"
      },
      "execution_count": 13,
      "outputs": []
    },
    {
      "cell_type": "code",
      "source": [
        "sm_train_db"
      ],
      "metadata": {
        "colab": {
          "base_uri": "https://localhost:8080/"
        },
        "id": "0g7yM9A21jvY",
        "outputId": "49c5afb5-9b88-4833-c489-913de7bffc3f"
      },
      "execution_count": 14,
      "outputs": [
        {
          "output_type": "execute_result",
          "data": {
            "text/plain": [
              "Dataset({\n",
              "    features: ['body_text', 'abstract'],\n",
              "    num_rows: 10\n",
              "})"
            ]
          },
          "metadata": {},
          "execution_count": 14
        }
      ]
    },
    {
      "cell_type": "code",
      "source": [
        "from transformers import AutoTokenizer\n",
        "\n",
        "tokenizer = AutoTokenizer.from_pretrained(\"bert-base-cased\")\n",
        "\n",
        "\n",
        "def tokenize_function(examples):\n",
        "    return tokenizer(examples[\"text\"], padding=\"max_length\", truncation=True)\n",
        "\n",
        "\n",
        "tokenized_datasets = dataset.map(tokenize_function, batched=True)"
      ],
      "metadata": {
        "id": "pVbUeU6a12pI"
      },
      "execution_count": null,
      "outputs": []
    },
    {
      "cell_type": "code",
      "source": [
        "from transformers import AutoTokenizer\n",
        "from torch.utils.data import DataLoader\n",
        "\n",
        "article_length = 512\n",
        "summary_length = 64\n",
        "batch_size     = 4\n",
        "model_name = \"google/pegasus-large\"\n",
        "# Load the BART's pre-trained Tokenizer\n",
        "# TODO use pretrained model for medical data, covid would be best\n",
        "# tokenizer = BartTokenizer.from_pretrained(model_name)\n",
        "tokenizer = transformers.AutoTokenizer.from_pretrained(model_name)\n",
        "# Define the function to make the correct data structure\n",
        "def tokenization(df,tokenizer):\n",
        "    \n",
        "    # tokenize in ids the body text and abstract\n",
        "    tokenized_output = list()\n",
        "    for i,j in zip(df['body_text'], df['abstract']):\n",
        "        f_tokenized = tokenizer(i, padding=\"max_length\", truncation=True)\n",
        "        l_tokenized = tokenizer(j, padding=\"max_length\", truncation=True)\n",
        "        tokenized_text ={ \n",
        "        'feature_input_ids': f_tokenized['input_ids'].flatten(),\n",
        "        'feature_attention_mask': f_tokenized['attention_mask'],\n",
        "        'feature_text': i,\n",
        "        'label_input_ids': l_tokenized['input_ids'].flatten(),\n",
        "        'label_attention_mask': l_tokenized['attention_mask'],\n",
        "        'label_text': j\n",
        "        }\n",
        "        \n",
        "        tokenized_output.append(tokenized_text)\n",
        "    return tokenized_output\n",
        "    \n",
        "def process_data_to_model_inputs(batch):\n",
        "  # tokenize the inputs and labels\n",
        "  inputs = tokenizer(batch[\"article\"], padding=\"max_length\", truncation=True, max_length=article_length)\n",
        "  outputs = tokenizer(batch[\"highlights\"], padding=\"max_length\", truncation=True, max_length=summary_length)\n",
        "\n",
        "  batch[\"input_ids\"] = inputs.input_ids\n",
        "  batch[\"attention_mask\"] = inputs.attention_mask\n",
        "  batch[\"decoder_input_ids\"] = outputs.input_ids\n",
        "  batch[\"decoder_attention_mask\"] = outputs.attention_mask\n",
        "  batch[\"labels\"] = outputs.input_ids.copy()\n",
        "\n",
        "  # We have to make sure that the PAD token is ignored for calculating the loss\n",
        "  batch[\"labels\"] = [[-100 if token == tokenizer.pad_token_id else token for token in labels] for labels in batch[\"labels\"]]\n",
        "\n",
        "  return batch\n",
        "\n",
        "# Map the function to both train/validation sets.\n",
        "train_data = train_data.map(\n",
        "    process_data_to_model_inputs, \n",
        "    batched=True,\n",
        "    remove_columns=[\"article\", \"highlights\"]\n",
        ")\n",
        "\n",
        "# Convert the Dataset to PyTorch tensor with the expected columns\n",
        "train_data.set_format(\n",
        "    type=\"torch\", columns=[\"input_ids\", \"attention_mask\", \"decoder_input_ids\",\n",
        "                           \"decoder_attention_mask\", \"labels\"],\n",
        ")\n",
        "\n",
        "# Make the iterative object that does batching using the DataLoader\n",
        "train_data      = DataLoader(train_data, batch_size=batch_size)"
      ],
      "metadata": {
        "id": "cVZUBM7x1-VT"
      },
      "execution_count": null,
      "outputs": []
    },
    {
      "cell_type": "code",
      "source": [
        "from torch.utils.data import DataLoader\n",
        "\n",
        "def calculate_metric_on_test_ds(dataset, metric, model, tokenizer, \n",
        "                               batch_size=16, device=device, \n",
        "                               column_text=\"body_text\", \n",
        "                               column_summary=\"abstract\"):\n",
        "    article_batches = DataLoader(article_batches[column_text], batch_size=batch_size)\n",
        "    target_batches = DataLoader(article_batches[column_summary], batch_size=batch_size)\n",
        "    for article_batch, target_batch in tqdm(\n",
        "        zip(article_batches, target_batches), total=len(article_batches)):\n",
        "        \n",
        "        inputs = tokenizer(article_batch, max_length=1024,  truncation=True, \n",
        "                        padding=\"max_length\", return_tensors=\"pt\")\n",
        "        \n",
        "        summaries = model.generate(input_ids=inputs[\"input_ids\"].to(device),\n",
        "                         attention_mask=inputs[\"attention_mask\"].to(device), \n",
        "                         length_penalty=0.8, num_beams=8, max_length=128)\n",
        "        ''' parameter for length penalty ensures that the model does not generate sequences that are too long. '''\n",
        "        \n",
        "        # Finally, we decode the generated texts, \n",
        "        # replace the  token, and add the decoded texts with the references to the metric.\n",
        "        decoded_summaries = [tokenizer.decode(s, skip_special_tokens=True, \n",
        "                                clean_up_tokenization_spaces=True) \n",
        "               for s in summaries]      \n",
        "        \n",
        "        decoded_summaries = [d.replace(\"\", \" \") for d in decoded_summaries]\n",
        "        \n",
        "        \n",
        "        metric.add_batch(predictions=decoded_summaries, references=target_batch)\n",
        "        \n",
        "    #  Finally compute and return the ROUGE scores.\n",
        "    score = metric.compute()\n",
        "    return score"
      ],
      "metadata": {
        "id": "zoE-BYG6u8cT"
      },
      "execution_count": 14,
      "outputs": []
    },
    {
      "cell_type": "code",
      "source": [
        "model_goog_peg_lrg = \"google/pegasus-large\"\n",
        "pipe = pipeline('summarization', model = model_goog_peg_lrg )\n",
        "\n",
        "pipe_out = pipe(train_article.iloc[0]['body_text'][:1024])\n",
        "\n",
        "print(pipe_out)"
      ],
      "metadata": {
        "id": "NT35bwL5xuFA"
      },
      "execution_count": null,
      "outputs": []
    },
    {
      "cell_type": "code",
      "source": [
        "train_article.iloc[0]['body_text']"
      ],
      "metadata": {
        "colab": {
          "base_uri": "https://localhost:8080/",
          "height": 127
        },
        "id": "SWLUM1pIyTOo",
        "outputId": "c4d5e456-5da2-4d63-fa06-0198963eacb0"
      },
      "execution_count": 16,
      "outputs": [
        {
          "output_type": "execute_result",
          "data": {
            "text/plain": [
              "'cancer prevalent cause mortality world common hindrance country achieving desired life expectancy . ovarian cancer one common type cancer woman . guleria . 2020 . ovarian cancer extremely lethal nastiest prognosis ailment . inability early diagnosis nearly nonspecific symptom common ovarian cancer identified iiiiv stage . five major histological form ovarian cancer identified epithelial edward . 2016 torre . 2018 siegel miller 2016 . endometrioid 13 mucinous 13 clear cell cancer 6 three prevalent type ovarian cancer coburn . 2017 . benign ovarian tumor recommended threat indicator precursor epithelial ovarian cancer ovarian cancer benign ovarian tumor share equivalent etiological risk factor jordan sj green ac whiteman dc webb pm study ac 2007 . also proposed fallopian tube may also contribute origination ovarian cancer distal end fallopian tube predecessor lesion ovary could progress severe ovarian tumor kurman 2016 . clear cell endometrioid tumor wellthoughtout caused establishing endometrium ovary throughout retrograde menstruation kurman 2016 . due heterogeneous nature development origin mucinous cancer well established guleria . 2020 . although ovarian cancer lower occurrence breast cancer considered three time lethal breast cancer . year 2020 mortality rate ovarian cancer considered raised significantly . different reason predicting greater mortality rate ovarian cancer like nonsymptomatic stealthy progression malignant tumorous cell slow progression disease symptom lastly lacking specific method diagnosis cancer even advanced stage . cancer given name ‘ silent killer ’ henriksen . 2020 danilova . 2020 yousefi . 2017 . ovarian cancer oc caused estimated 239000 new case 153000 death annually around globe . highest rate ratio 11.4 per 100000 6.0 per 100000 correspondingly observed central eastern europe . low incidence rate observed china i.e . 4.1 per 100000 compared 21290 case 14180 death related ovarian cancer usa 2015 . contrast estimated 52100 fresh case 22500 expiry year china yousefi . 2017 . treatment far ideal surgery radiotherapy chemotherapy conventional treatment strategy used far however option significant limitation effective numerous case henriksen . 2020 . current era multiple immunotherapy technique enabled advance oncology including recombinant cytokine immune checkpoint inhibitor tcellmediated adaptive therapy dendritic cell dcbased vaccine danilova . 2020 yousefi . 2017 . cancertesticular antigen cta overexpressed tumor expressing condition case normal healthy cell ’ preferred target among tta . aguilera . 2011 tio . 2019 . reported different patient show different profile level cta expression diagnosis seledtsov goncharov 2015 li . 2002 garciasoto . 20172014 faramarzi ghafourifard 2017 kulkarni uversky vnjijoms . 2017 . generally two group ctas non x ctas coded chromosome autosome ctx antigen present x chromosome tio . 2019 . reported recent clinical trial cancer vaccine showed promising benefit melero . 2014 . besides aiding potential target cancer vaccine ctas also play part developing cancerous cell survival anderson . 1984 gjerstorff . 2015 . remarkable advancement developmental technique observed using bioinformatics tool immunoinformatics twentyfirst century . degree viral vaccine progress elevated reverse structural vaccinology cali . 2013 . using tool technique antigenicity protein anticipated easily significant amount accuracy dimitrov . 2017 . different kind antigenic determinant adjuvant selected increase efficiency preparation subunit vaccine . help improve immune system host immune response gupta . 2013 . use immunoinformatics recently intensified model peptide vaccine virus shahid . 2020 tahir ul qamar shokat z muneer ashfaq ua javed h anwar f . 2002 khalid ashfaq 2020 mt ul qamar . 2020 mt ul qamar rehman ashfaq ua awan mq fatima shahid f . 2020 parasite yadav . 2020 kar srivastava 2018 bacteria nezafat . 2017 hajighahramani . 2017 mamede . 2008 mahmood . 2021 . bioinformatics progression technology become new track predicting vulnerable epitope designing mev i.e . multiepitopebased subunit vaccine trigger humeral cellularbased immune response body saha 2006 altschul . 1990 . herein multiepitope subunit vaccine designed treat ovarian cancer . vaccine planned constructed predicting epitope targeted cancer testis antigen nyeso1 akap4 acrbp spage9 magea9 ct45a3 piwil3 lage1 . gmcsf used immune modulator also utilized . augmenting cellmediated antibodymediated immunity gmcsf also incorporated peptide . selected class class ii epitope joined using pertinent linkers . several immunoinformatics tool used evaluate validate vaccine capability immunotherapy ovarian cancer . purpose study employ computational approach along reverse vaccinology develop multiepitopes subunit vaccination mev ovarian cancer treatment enhance cellular humoral immunogenicity . although proposed multiepitope vaccine model potential impact development prospective vaccine research needed . conclude laboratory testing subsequent pharmacological trial required demonstrate efficacy potential . complete workflow study illustrated fig . . six cancertestis antigen ovarian cancer nyeso1 akap4 acrbp piwil3 lage1 taken target . amino acid sequence retrieved uniprot . vaxijen v.2.0 online tool httpwww.ddgpharmfac.netvaxijenvaxijenvaxijen.html utilized identify protein strong antigenicity . tool evaluates antigenic property based alignmentfree method chiefly analyzes physiochemical property doytchinova flower drjbb . 2007 . vaxijen v.2.0 requires protein sequence fasta format . therefore protein sequence fasta format added threshold set 0.5 . finally protein showing acceptable antigenicity physiochemical property tested similarity index human protein purpose blastp utilized . tcells epitope prediction significant step design vaccine make whole procedure costeffective also comparison laboratory experiment lessens time required entire protocol saha 2006 zhang . 2004 . identify tcell epitope immune epitope database analysis resource iedbar version 2.22 httpswww.iedb.org vita . 2018 employed . online server provides many tool estimation assessment antigenic epitope . protein sequence submitted fasta format consensus method elected prediction method human chosen source specie offered allele selected forecast epitope . entire forecasted epitope additionally investigated side side diverse online bioinformatics tool i.e . vaxijen v2.0 engaged ass antigenic character iedbar v.2.22 mhci immunogenicity tool employed recognizing immunogenicity allergenfp v1.0 dimitrov . 2014 utilized inquiring allergenic character toxin pred online tool yadav . 2020 betrothed calculate toxicity anticipated epitope . allergenfp server computes descriptorbased alignmentfree fingerprint protocol recognize allergenic character peptide 88.9 accuracy dimitrov . 2014 . toxin pred online tool involves machinelearning quantitative matrix predict toxicity gupta . 2013 . transmembrane nature epitope evaluated tmhmm server chen . 2003 . recognition bcells epitope bces vital step designing mevs release antibody lead generation humoral immunity . linear bces identified via abcpred online server httpcrdd.osdd.netraghavaabcpred . employ neural networkingbased methodology recognize bces saha 2006 . threshold amino acid length fixed 0.5 14 respectively . finally selected bces evaluated antigenic allergic immunogenic toxic profile vaxijen v2.0 allergenfp v1.0 iedbar v.2.22 mhci immunogenicity toxinpred respectively . evaluate binding efficiency selected htl ctl epitope subjected pepfold v3.0 server httpsbioserv.rpbs.univparisdiderot.frservicespepfold3 prediction peptide structure utilizing sopep sorting scheme 200 simulation lamiable . 2016 . hlas crystal structure downloaded rcsb pdb httpswww.rcsb.org berman . 2003 . cluspro httpscluspro.bu.edulogin.php docking performed . create visualize docked complex pymol molecular graphic system v.1.3 used pymol 2002 . hla allele distribution differs various cultural group geographical constituency sphere making population coverage important parameter constructing mev . current study calculated collective population coverage shortlisted htl ctl epitope identical hla allele iedb population coverage tool vita . 2019 . immunoinformatics tool used designing vaccine sequence . design vaccine ctl htl highscoring epitope linked correlated linkers . furthermore gmcsf supplemented adjuvant nterminal enhance immunogenicity . homology host protein prompt autoimmunity . ncbi blastp online server httpsblast.ncbi.nlm.nih.govblast.cgipageproteins utilized determine homology constructed mev human proteome altschul . 1990 . primary sequence vaccine ’ protein added fasta format homo sapiens taxid9606 taken target organism blast run without changing parameter . different online tool adopted evaluate final vaccine construct physicochemical property antigenicity allergenicity . vaxijen v2.0 accessed predict antigenic behavior mev construct whereas allertop v2.0 httpwww.ddgpharmfac.netallertop adopted evaluate allergenicity . allertop includes alignmentfree estimation allergenic character protein assessing chief physicochemical property dimitrov . 2017 . protparam tool expasy used recognize different physiochemical effect final mev protein instance theoretical pi grand average hydropathicity gravy aliphatic index stability index molecular weight expected halflife mammal cell yeast e. coli . solubility predicted solpro tool magnan . 2009 . sopma used predict secondary structure vaccine ’ protein deléage 2017 . tool measured level extended strand alpha helix random coil betaturn . two graph included result . one show prediction alternative show score curve expected position . prediction tertiary structure mev itasser used zhang yjbb . 2008 . using computer algorithm 3d model protein generated amino acid sequence . based iterative template fragment assembly simulation multiplethreading alignment server predicts threedimensional protein structure . itasser offer confidence score determination accuracy model predicted . galaxyrefine web server httpgalaxy.seoklab.org used modify forecasted exemplary vaccine ko . 2012 . first galaxyrefine webserver reconstructs side chain performs structural repacking overall structural relaxation using molecular dynamic . prosaweb errat server ramachandran plot analysis used identify error predicted tertiary structure wiederstein sippl mjjnar . 2007 xia . 1992 lovell . 2003 . prosaweb provides typical quality score input construction . moreover evaluation notlinked atom–atom interaction errat server used . conclusively ramachandran plot used evaluate energetically forbidden permitted angle dihedral angle psi phi . linear bces conformational bces constructed mev identified using abcpred online server ellipro tool iedbar v.2.22 . abcpred server mev amino acid sequence given input threshold set 0.5 amino acid length fixed 14 . contrast parameter ellipro tool set default mev 3d structure given input . pymol employed visualize discontinuous epitope final mev construct delano wljcnopc . 2002 . disulfide engineering new method adding disulfide bond amino acid protein structure . disulfide bond covalent bond imparts significant firmness protein structure authorizing accurate geometric conformation . disulfide design v2.12 online tool employed disulfide engineering mev protein . residuepair search done using refined mev structure possible residue pair recognized mutation cysteine residue taken concluding target chen . 2003 . residue energy score lesser 2.2 kcalmol χ3 angle within range − 87 97° considered formation disulfide linkage craig dombkowski aajbb . 2013 . insilico immune simulation performed cimmsim 10.1 server validate designed mevs multiepitope vaccine immunological response . 3 constituent efficient mammal structure thymus lymph node bone marrow stimulated cimmsim rapin . 2010 . minimum 30day interval two dos considered . three injection administered insilico time stage 84 168 respectively onetime step equal 8 h real life . maximum value set 1000 simulation step stimulation parameter maintained default . soon property insilico immune simulation fabricated mev examined prudently java codon adaptation tool used optimize codon grote . 2020 . codon optimization procedure commonly utilized ameliorate gene expression enhance translational efficiency gene interest inserting codon biased host organism burgessbrown . 2008 . codon optimization mev done e. coli k12 prokaryotic expression system . three available option chosen identify cleavage site restriction enzyme binding site prokaryote ribosome 3 rhoindependent transcription termination . gc content codon adaptation index cai value noted checked whether fall acceptable range 30–70 gc content 0.8 cai sharp 1987 . addition constraint cloning adapted mev sequence accelerated adding bamhi hindiii restriction site c nterminals correspondingly . altered sequence taken silico cloning mean snapgene v4.2 tool httpssnapgene.com . cloning completed vector e. coli pet30a authenticate expression sequence invitro system . amino acid sequence six cancertestis antigen ovarian cancer retrieved uniprot . protein name accession enlisted table . antigenicity protein assessed vaxijen v.2.0 outcome presented protein antigenic . therefore sequence protein submitted blastp identify similarity human protein . finding blastp showed protein noticeable resemblance human protein hence protein chosen analysis . iedb consensus method adopted forecast tcell including mhci mhcii epitope target protein . owing strong defensive capability epitope showing interaction one allele taken appropriate epitope . conservancy predicted epitope within protein sequence determined iedb conservancy analysis tool . allergenicity antigenicity evaluated allergen fp 1.0 vaxijen . total 76 ctl epitope ny7 ak25 ac10 pi27 la7 additional file table s1 37 htl epitope ny1 ak11 ac4 pi19 la2 shortlisted additional file table s2 . linearcontinuous b cell epitope lbl target protein identified abcpred server . like cell epitope selected lbl antigenic nonallergenic 100 conserved . based criterion 160 lbl epitope ny11 ak48 ac36 pi14 la51 predicted additional file table s3 . criterion intended include epitope mev 100 conserved among protein significantly antigenicimmunogenic nontoxic nonallergenic within glycosylation site posttranslation modification site particular protein transmembrane helix . therefore epitope satisfying criterion mentioned selected analysis . total 14 ctl epitope ny3 ak3 ac3 pi2 la3 5 htl epitope ny1 ak1 ac1 pi2 chosen mev designing table . selected ctl htl epitope vaccine construction overlap b cell epitope . structure epitope predicted via pepfold server . molecular docking performed via cluspro server analyze interaction hla allele selected cell epitope . observed identified epitope attached deeply within binding pocket respective allele fig . . used mev construct chosen epitope displayed substantial binding ability appropriateness used vaccine construct . hla allele ’ distribution differed among different country various geographical constituency world . population coverage compulsory vital constraint identify vaccine validation . herein calculated class class ii epitope ’ population coverage along respective allele . global population coverage selected epitope found 97.59 . highest population coverage 98.62 observed south asia followed europe north america coverage reported 98.47 97.97 respectively fig . 3 . mev construct designed using selected epitope . two motif including aay heygaealerag used connect ctl epitope . moreover via gpgpg linker predicted htl epitope combined . adjuvant attached using linkers . final mev construct found consist 547 amino acid including adjuvant linkers fig . 4 . construction vector based structure physical immunol property characteristic . homology first checked human proteomics available data outcome thus obtained contained similarity region human proteomics . secondly mev evaluated antigenicity toxicity allergenicity . analysis found constructed mev extremely antigenic antigenic score 0.6299 threshold 0.5 potentially harmless . moreover physiochemical property mev also evaluated using protparam online tool . vaccine protein found stable molecular weight 60453.00 da . theoretical pi gravy reported 6.09 − 0.421 negative sign show hydrophilic nature respectively . mean halflife mev measured e. coli yeast cell respectively . mev found soluble probability score 0.864380 . property showed constructed mev outstanding potential act vaccine . predict tertiary structure designed mev itasser used cscore − 1.35 . model number 3 identified excellentoptimized model based different parameter used galaxyrefine server rmsd clash score rama favored etc . comparison model . selected model chosen finalized vaccine model rough model undergone structural evaluation fig . 5a . refined model zscore calculated − 6.09 fig . 5c . according ramachandran plot analysis 85.1 residue favored region 3.0 disallowed region 0.9 highly allowed region 11.0 allowed region fig . 5b . moreover refined model errat score 82.4953 . disulfide design v2.0 used carry disulfide engineering enhance stability mev ’ refined model . total 25 residue pair could used purpose . nonetheless four residue pair showed energy chi3 value within normal range . therefore finalized disulfide engineering purpose . consequently eight mutation introduced residue pair i.e . ala 171gly 205 energy 1.36 kcalmol chi3 value 73.04 gly 205arg 210 energy 0.58 kcalmol chi3 value 90.90 glu 209tyr 265 energy 1.86 kcalmol chi3 value 85.94 trp 253ser 261 energy 1.81 kcalmol chi3 value − 68.32 . fig . 6 . besides releasing cytokine blymphocytes also provide humoral immunity producing antibody . hence mev ideally b cell epitope domain . thirtyeight linear b cell epitope additional file table s1 eight conformational b cell epitope additional file table s2 predicted finalized mev construct without altering abcpred 2.0 ellipro prediction parameter . pymol facilitated visualizing conformational b cell epitope 3d structure mev construct fig . 7 . real immune system immune response result threshold response produced primary secondary immunity response . silico host immune system reaction antigen shown fig . 8 . igg igg igm concentration continually elevated primary immune response preceded igg1 igg2 igm igg1 equally primary secondary immune response accompanying antigen reduction . furthermore evaluate vaccine cytokine interleukin response also observed . analysis revealed vaccine decent immune response subsequent encounter . guarantee translation mev infrequently used e.coli host silico cloning accomplished . jcat server used refine mev codon following e.coli strain k12 expression system cloning . optimized mev sequence comprises 1641 nucleotide cai value 0.98 gc content 56.00 showing high potential reliability positive protein expression . insilico cloning executed validate expression mev host cell . stride supported supplementation two restriction site bamhi hindiii end mev optimized nucleotide sequence . modified sequence cloned pet30a vector multiple cloning site fig . 9 . entire clone size 7052 bp . ovarian cancer still deadliest gynecologic cancer . lack effective screening strategy result 75 percent woman diagnosed ovarian cancer advanced stage survival rate 46 percent five year diagnosis lheureux . 2019 . typical treatment plan ovarian cancer involves surgery chemotherapy . 80 percent patient respond initial therapy majority recur require additional therapy . major obstacle treatment recurrent ovarian cancer chemotherapyresistant disease develops course multiple therapy schaar . 2018 . demonstrates need new therapeutic intervention including development immunotherapy ovarian cancer treatment . cellular therapy immune checkpoint inhibition cancer vaccine current immunotherapeutic option . vaccinebased therapy aim stimulate innate adaptive immune response ovarian cancerassociated antigen . immune response crucial fight malignancy viral infection . antigenic epitope fundamental unit induces either cellular humoral immune response . therefore multiepitope vaccine composed series overlapped peptide would good option treating preventing viral tumor infection . ideally multiepitope vaccine would include epitope elicit bcell thelper th ctl response targeted virus tumor buonaguro l consortium h 2016 . immuneinformatics tool provide valuable facility accurate design vaccine achieve aim . different computational study demonstrated viability precision speed insilico tool study design multiple epitope various chronic disorder including cancer pourseif . 2005 2018 . vaccine ’ effectiveness determined selection correct ctl epitope chief element adjuvant htl epitope burg . 2006 . moreover produce protein desired functionality required fuse component . also say protein may various characteristic choosing appropriate linkers . therefore suitable linkers must utilized development peptide vaccine . general administered appropriate adjuvant peptide vaccine nature induce antigenspecific tcell response . importantly adjuvant considered crucial constituent inside peptide vaccine maximize dendritic cell ’ functioning create effective immune reaction . vaccine designed predicting epitope targeted cancer testis antigen ie nyeso1 akap4 acrbp spage9 magea9 ct45a3 piwil3 lage1 . adjuvant must added multiepitope vaccine achieve sufficient immunogenicity meza . 2017 . ability gmcsfbased vaccine preclinical study inducing strong response virus tumor demonstrated ahlers . 2002 . ability help activate dendritic cell gmcsf induced antitumor immunity mechanism connects cell dendritic cell . consequently antitumor response generated via gmcsf effectively using gmcsf immune adjuvant candidate yan . 2017 . structural functional activity proteinbased vaccine mainly dependent linkers . current study different linkers utilized vaccine development . two selected motif including aay heygaealerag used connect ctl epitope . heygaalerag sequence provides particular site cleavage system responsible proteasomal lysosomal degradation . besides aay sequence epitope presentation improved . cleavage cterminal bind chaperon transporter like tap others bergmann . 1996 gu . 2013 . moreover thelper component predicted study joined together via gpgpg linker . gpgpg linkers induce conserve conformational dependent immunity also stimulate antibody htl response . eaaak another sequence acting linkers monitoring molecular distance minimizing domain interference . eventually current vaccine construct built linking adjuvant htl epitope ctl epitope main component vaccine livingston . 2002 . molecular weight final constructed vaccine 42.15 kda show homology portion human proteome . furthermore recombinant mev protein showed excellent solubility upon overexpression e.coli host making easy access host khatoon pandey 2017 . instability index depicted protein stable nature upon expression augmenting usage capacity . theoretical pi 9.39 show mev strongly alkaline consistently connects physiological ph range . moreover aliphatic index gravy score represented thermostable hydrophobic nature respectively ismail . 2020 ikram . 2018 tahir ul qamar shokat z muneer ashfaq ua javed h anwar f . 2020 . hla allele significant since hold response tcell epitope nevertheless grounded background allele astonishingly polymorphic . tcell epitope expected depict binding affinity many hla allele population coverage achieved . outcome demonstrated selected epitope respective allele found major geographical area world global population coverage 97.59 . modeling 3d structure provides outstanding support estimation protein dynamic function interaction capability protein . therefore 3d structure mev predicted desirable property considerably increased refinement . ramachandran plot analysis errat quality factor zscore verified excellent quality model . bcell epitope predicted mev construct determine whether contained enough epitope antibody detect latch onto flavivirus 1990 . immunoreactivity testing serological assessment fundamental step authenticate vaccine construct gori . 2013 . expression foreign gene may differ inside genome host cell . variation inconsistency mrna codon therefore required optimize codon ensure higher expression level host cell pandey . 2018 . cai 58.46 gc 1.0 content optimized codon showed promising outcome higher protein expression e. coli expression system extensively used synthesis recombinant protein chen rjba . 2012 rosano 2014 . recent study mev construct designed using nextgeneration vaccine approach skilled producing threshold immunity reaction ovarian cancer . furthermore active immune response observed real life immune stimulation . wet lab inquiry highly needed validate actual potential combat ovarian cancer . proposed multiepitope vaccine model combined immunological data computational analysis may impact development prospective vaccine . conclude estimated amount vaccine model pose positive effect treating ovarian cancer . moreover present work outcome integrated vaccinomics approach . thus laboratory testing subsequent pharmacological trial required prove efficacy potential developed mev .'"
            ],
            "application/vnd.google.colaboratory.intrinsic+json": {
              "type": "string"
            }
          },
          "metadata": {},
          "execution_count": 16
        }
      ]
    },
    {
      "cell_type": "code",
      "source": [
        "from transformers import AutoModelForSeq2SeqLM, AutoTokenizer\n",
        "\n",
        "rouge_metric = load_metric('rouge')\n",
        "\n",
        "score = calculate_metric_on_test_ds(train_article, rouge_metric, model_pegasus, tokenizer, column_text = 'body_text', column_summary='abstract')"
      ],
      "metadata": {
        "id": "VpJancpotDyp"
      },
      "execution_count": null,
      "outputs": []
    },
    {
      "cell_type": "code",
      "source": [],
      "metadata": {
        "id": "2_CP5OzItD6O"
      },
      "execution_count": null,
      "outputs": []
    },
    {
      "cell_type": "code",
      "source": [],
      "metadata": {
        "id": "kcIWoxbBtD81"
      },
      "execution_count": null,
      "outputs": []
    },
    {
      "cell_type": "code",
      "source": [],
      "metadata": {
        "id": "xNhFlCn8tD_j"
      },
      "execution_count": null,
      "outputs": []
    },
    {
      "cell_type": "code",
      "source": [],
      "metadata": {
        "id": "jXmV4Ms_tECv"
      },
      "execution_count": null,
      "outputs": []
    },
    {
      "cell_type": "markdown",
      "source": [
        "## Rough"
      ],
      "metadata": {
        "id": "0mi3SBOHtEfr"
      }
    },
    {
      "cell_type": "code",
      "execution_count": null,
      "metadata": {
        "id": "UqRdC-vs8N6Y"
      },
      "outputs": [],
      "source": [
        "from transformers import AutoTokenizer\n",
        "tokenizer = AutoTokenizer.from_pretrained(\"bert-base-cased\")"
      ]
    },
    {
      "cell_type": "code",
      "execution_count": null,
      "metadata": {
        "id": "F6i0NP5l8N6a",
        "outputId": "b7a7e6b7-4d2d-426f-cf3b-daf43f5f536e"
      },
      "outputs": [
        {
          "data": {
            "text/plain": [
              "dict_keys(['input_ids', 'token_type_ids', 'attention_mask'])"
            ]
          },
          "execution_count": 4,
          "metadata": {},
          "output_type": "execute_result"
        }
      ],
      "source": [
        "temp = tokenizer(train_article['body_text'][0], padding=\"max_length\", truncation=True)\n",
        "temp.keys()"
      ]
    },
    {
      "cell_type": "code",
      "execution_count": null,
      "metadata": {
        "id": "kP8YD3Rw8N6a"
      },
      "outputs": [],
      "source": [
        "from transformers import AutoTokenizer\n",
        "tokenizer = AutoTokenizer.from_pretrained(\"bert-base-cased\")\n",
        "\n",
        "\n",
        "def tokenization(df,tokenizer):\n",
        "    \n",
        "    # tokenize in ids the body text and abstract\n",
        "    tokenized_output = list()\n",
        "    for i,j in zip(df['body_text'], df['abstract']):\n",
        "        f_tokenized = tokenizer(i, padding=\"max_length\", truncation=True)\n",
        "        l_tokenized = tokenizer(j, padding=\"max_length\", truncation=True)\n",
        "        tokenized_text ={ \n",
        "        'feature_input_ids': f_tokenized['input_ids'].flatten(),\n",
        "        'feature_attention_mask': f_tokenized['attention_mask'],\n",
        "        'feature_text': i,\n",
        "        'label_input_ids': l_tokenized['input_ids'].flatten(),\n",
        "        'label_attention_mask': l_tokenized['attention_mask'],\n",
        "        'label_text': j\n",
        "        }\n",
        "        \n",
        "        tokenized_output.append(tokenized_text)\n",
        "    return tokenized_output\n",
        "\n",
        "# list of dictionaries, each dictionary is a tokenized article with 'input_ids', 'token_type_ids', 'attention_mask'\n",
        "\n",
        "train_X_encode_ids = tokenization(train_article,tokenizer)\n",
        "test_X_encode_ids = tokenization(test_article,tokenizer)\n",
        "\n",
        "# train_y_encode_ids = tokenization(train_article, \"abstract\")\n",
        "# test_y_encode_ids = tokenization(test_article, \"abstract\")\n",
        "\n"
      ]
    },
    {
      "cell_type": "code",
      "execution_count": null,
      "metadata": {
        "id": "fyDwDBUC8N6b",
        "outputId": "c689ca1f-d161-4d02-9002-1eaa339a0022"
      },
      "outputs": [
        {
          "data": {
            "text/plain": [
              "dict_keys(['feature_input_ids', 'feature_attention_mask', 'feature_text', 'label_input_ids', 'label_attention_mask', 'label_text'])"
            ]
          },
          "execution_count": 9,
          "metadata": {},
          "output_type": "execute_result"
        }
      ],
      "source": [
        "train_X_encode_ids[0].keys()"
      ]
    },
    {
      "cell_type": "code",
      "execution_count": null,
      "metadata": {
        "id": "0CM-HYDQ8N6b"
      },
      "outputs": [],
      "source": [
        "small_train_dataset = train_X_encode_ids[0:1000]\n",
        "small_eval_dataset = test_X_encode_ids[0:1000]"
      ]
    },
    {
      "cell_type": "code",
      "execution_count": null,
      "metadata": {
        "id": "n6mSacg_8N6b"
      },
      "outputs": [],
      "source": [
        "from torch.utils.data import DataLoader\n",
        "\n",
        "train_dataloader = DataLoader(small_train_dataset, shuffle=True, batch_size=8)\n",
        "eval_dataloader = DataLoader(small_eval_dataset, batch_size=8)"
      ]
    },
    {
      "cell_type": "code",
      "execution_count": null,
      "metadata": {
        "id": "Mu4CHtZq8N6c",
        "outputId": "622af1ad-65c1-4a9e-994a-707252ba9d28"
      },
      "outputs": [
        {
          "name": "stderr",
          "output_type": "stream",
          "text": [
            "Some weights of the model checkpoint at bert-base-uncased were not used when initializing BertForSequenceClassification: ['cls.predictions.decoder.weight', 'cls.seq_relationship.bias', 'cls.seq_relationship.weight', 'cls.predictions.transform.dense.weight', 'cls.predictions.transform.dense.bias', 'cls.predictions.transform.LayerNorm.weight', 'cls.predictions.transform.LayerNorm.bias', 'cls.predictions.bias']\n",
            "- This IS expected if you are initializing BertForSequenceClassification from the checkpoint of a model trained on another task or with another architecture (e.g. initializing a BertForSequenceClassification model from a BertForPreTraining model).\n",
            "- This IS NOT expected if you are initializing BertForSequenceClassification from the checkpoint of a model that you expect to be exactly identical (initializing a BertForSequenceClassification model from a BertForSequenceClassification model).\n",
            "Some weights of BertForSequenceClassification were not initialized from the model checkpoint at bert-base-uncased and are newly initialized: ['classifier.weight', 'classifier.bias']\n",
            "You should probably TRAIN this model on a down-stream task to be able to use it for predictions and inference.\n"
          ]
        }
      ],
      "source": [
        "from transformers import TFAutoModelForSequenceClassification\n",
        "from transformers import BertForSequenceClassification\n",
        "import torch\n",
        "from torch.optim import Adam\n",
        "from transformers import get_scheduler\n",
        "import tqdm\n",
        "\n",
        "l_rate = 1e-5\n",
        "epochs = 2\n",
        "train_steps = epochs * len(train_dataloader)\n",
        "#Get transformaer specific model later\n",
        "t_model = BertForSequenceClassification.from_pretrained('bert-base-uncased')\n",
        "optimizer = Adam(params = t_model.parameters(), lr=l_rate)\n",
        "\n",
        "lr_scheduler = get_scheduler(\n",
        "    name=\"linear\", optimizer=optimizer, num_warmup_steps=0, num_training_steps=train_steps\n",
        ")\n"
      ]
    },
    {
      "cell_type": "code",
      "execution_count": null,
      "metadata": {
        "id": "f6Ti2Aw28N6c",
        "outputId": "9404da13-066d-4f78-b252-55075626c9ce"
      },
      "outputs": [
        {
          "name": "stdout",
          "output_type": "stream",
          "text": [
            "tensor([1.], device='mps:0')\n"
          ]
        }
      ],
      "source": [
        "import torch\n",
        "mps_device = torch.device(\"cpu\")\n",
        "if torch.backends.mps.is_available():\n",
        "    mps_device = torch.device(\"mps\")\n",
        "    x = torch.ones(1, device=mps_device)\n",
        "    print(x)\n",
        "else:\n",
        "    print(\"MPS device not found.\")"
      ]
    },
    {
      "cell_type": "code",
      "execution_count": null,
      "metadata": {
        "id": "pu4umjap8N6c",
        "outputId": "beef249b-66e7-4c1f-dc5f-e998f23cdfd2"
      },
      "outputs": [
        {
          "ename": "AttributeError",
          "evalue": "'list' object has no attribute 'to'",
          "output_type": "error",
          "traceback": [
            "\u001b[0;31m---------------------------------------------------------------------------\u001b[0m",
            "\u001b[0;31mAttributeError\u001b[0m                            Traceback (most recent call last)",
            "\u001b[1;32m/Users/kamanbeckypang/Documents/year2_trim_1/NLP/nlp_assign_3/fine_tuning.ipynb Cell 13\u001b[0m in \u001b[0;36m<cell line: 29>\u001b[0;34m()\u001b[0m\n\u001b[1;32m     <a href='vscode-notebook-cell:/Users/kamanbeckypang/Documents/year2_trim_1/NLP/nlp_assign_3/fine_tuning.ipynb#W0sZmlsZQ%3D%3D?line=25'>26</a>\u001b[0m             optimizer\u001b[39m.\u001b[39mzero_grad()\n\u001b[1;32m     <a href='vscode-notebook-cell:/Users/kamanbeckypang/Documents/year2_trim_1/NLP/nlp_assign_3/fine_tuning.ipynb#W0sZmlsZQ%3D%3D?line=26'>27</a>\u001b[0m             \u001b[39m#progress_bar.update(1)\u001b[39;00m\n\u001b[0;32m---> <a href='vscode-notebook-cell:/Users/kamanbeckypang/Documents/year2_trim_1/NLP/nlp_assign_3/fine_tuning.ipynb#W0sZmlsZQ%3D%3D?line=28'>29</a>\u001b[0m train(epochs, t_model, optimizer,train_dataloader)\n",
            "\u001b[1;32m/Users/kamanbeckypang/Documents/year2_trim_1/NLP/nlp_assign_3/fine_tuning.ipynb Cell 13\u001b[0m in \u001b[0;36mtrain\u001b[0;34m(epochs, model, optimizer, train_dataloader)\u001b[0m\n\u001b[1;32m     <a href='vscode-notebook-cell:/Users/kamanbeckypang/Documents/year2_trim_1/NLP/nlp_assign_3/fine_tuning.ipynb#W0sZmlsZQ%3D%3D?line=15'>16</a>\u001b[0m model\u001b[39m.\u001b[39mtrain() \u001b[39m# the model is in training mode, will consider evething like batch normalization and dropout\u001b[39;00m\n\u001b[1;32m     <a href='vscode-notebook-cell:/Users/kamanbeckypang/Documents/year2_trim_1/NLP/nlp_assign_3/fine_tuning.ipynb#W0sZmlsZQ%3D%3D?line=17'>18</a>\u001b[0m \u001b[39mfor\u001b[39;00m batch \u001b[39min\u001b[39;00m train_dataloader:\n\u001b[0;32m---> <a href='vscode-notebook-cell:/Users/kamanbeckypang/Documents/year2_trim_1/NLP/nlp_assign_3/fine_tuning.ipynb#W0sZmlsZQ%3D%3D?line=18'>19</a>\u001b[0m     batch \u001b[39m=\u001b[39m {k: v\u001b[39m.\u001b[39mto(device) \u001b[39mfor\u001b[39;00m k, v \u001b[39min\u001b[39;00m batch\u001b[39m.\u001b[39mitems()}\n\u001b[1;32m     <a href='vscode-notebook-cell:/Users/kamanbeckypang/Documents/year2_trim_1/NLP/nlp_assign_3/fine_tuning.ipynb#W0sZmlsZQ%3D%3D?line=19'>20</a>\u001b[0m     outputs \u001b[39m=\u001b[39m model(\u001b[39m*\u001b[39m\u001b[39m*\u001b[39mbatch)\n\u001b[1;32m     <a href='vscode-notebook-cell:/Users/kamanbeckypang/Documents/year2_trim_1/NLP/nlp_assign_3/fine_tuning.ipynb#W0sZmlsZQ%3D%3D?line=20'>21</a>\u001b[0m     loss \u001b[39m=\u001b[39m outputs\u001b[39m.\u001b[39mloss\n",
            "\u001b[1;32m/Users/kamanbeckypang/Documents/year2_trim_1/NLP/nlp_assign_3/fine_tuning.ipynb Cell 13\u001b[0m in \u001b[0;36m<dictcomp>\u001b[0;34m(.0)\u001b[0m\n\u001b[1;32m     <a href='vscode-notebook-cell:/Users/kamanbeckypang/Documents/year2_trim_1/NLP/nlp_assign_3/fine_tuning.ipynb#W0sZmlsZQ%3D%3D?line=15'>16</a>\u001b[0m model\u001b[39m.\u001b[39mtrain() \u001b[39m# the model is in training mode, will consider evething like batch normalization and dropout\u001b[39;00m\n\u001b[1;32m     <a href='vscode-notebook-cell:/Users/kamanbeckypang/Documents/year2_trim_1/NLP/nlp_assign_3/fine_tuning.ipynb#W0sZmlsZQ%3D%3D?line=17'>18</a>\u001b[0m \u001b[39mfor\u001b[39;00m batch \u001b[39min\u001b[39;00m train_dataloader:\n\u001b[0;32m---> <a href='vscode-notebook-cell:/Users/kamanbeckypang/Documents/year2_trim_1/NLP/nlp_assign_3/fine_tuning.ipynb#W0sZmlsZQ%3D%3D?line=18'>19</a>\u001b[0m     batch \u001b[39m=\u001b[39m {k: v\u001b[39m.\u001b[39;49mto(device) \u001b[39mfor\u001b[39;00m k, v \u001b[39min\u001b[39;00m batch\u001b[39m.\u001b[39mitems()}\n\u001b[1;32m     <a href='vscode-notebook-cell:/Users/kamanbeckypang/Documents/year2_trim_1/NLP/nlp_assign_3/fine_tuning.ipynb#W0sZmlsZQ%3D%3D?line=19'>20</a>\u001b[0m     outputs \u001b[39m=\u001b[39m model(\u001b[39m*\u001b[39m\u001b[39m*\u001b[39mbatch)\n\u001b[1;32m     <a href='vscode-notebook-cell:/Users/kamanbeckypang/Documents/year2_trim_1/NLP/nlp_assign_3/fine_tuning.ipynb#W0sZmlsZQ%3D%3D?line=20'>21</a>\u001b[0m     loss \u001b[39m=\u001b[39m outputs\u001b[39m.\u001b[39mloss\n",
            "\u001b[0;31mAttributeError\u001b[0m: 'list' object has no attribute 'to'"
          ]
        }
      ],
      "source": [
        "def train(epochs, model, optimizer,train_dataloader):\n",
        "    train_loss_ls = []\n",
        "    train_accuracy_ls = []\n",
        "    val_loss_ls = []\n",
        "    val_accuracy_ls = []\n",
        "    model = model.to(mps_device)\n",
        "    #progress_bar = tqdm(range(train_steps))\n",
        "    '''\n",
        "     This is the training section\n",
        "    '''\n",
        "    \n",
        "    for epoch in range(epochs):  # loop over the dataset multiple times\n",
        "        \n",
        "        training_loss = 0\n",
        "        training_correct = 0\n",
        "        model.train() # the model is in training mode, will consider evething like batch normalization and dropout\n",
        "            \n",
        "        for batch in train_dataloader:\n",
        "            batch = {k: v.to(device) for k, v in batch.items()}\n",
        "            outputs = model(**batch)\n",
        "            loss = outputs.loss\n",
        "            loss.backward()\n",
        "\n",
        "            optimizer.step()\n",
        "            lr_scheduler.step()\n",
        "            optimizer.zero_grad()\n",
        "            #progress_bar.update(1)\n",
        "\n",
        "train(epochs, t_model, optimizer,train_dataloader)\n",
        "\n",
        "            \n",
        "        \n",
        "        # for i, data in enumerate(train_dataloader, 0): # each data is one batch\n",
        "        #     # get the inputs; data is a list of [inputs, labels]\n",
        "        #     inputs, labels = data\n",
        "        #     inputs, labels = inputs.to(mps_device), labels.to(mps_device)\n",
        "\n",
        "        #     # zero the parameter gradients\n",
        "        #     optimizer.zero_grad()\n",
        "\n",
        "        #     # forward + backward + optimize\n",
        "        #     outputs = model(inputs)\n",
        "        #     predicted = outputs.argmax(1)# index of max probability out of 10 classes\n",
        "\n",
        "        #     loss = criterion(outputs, labels)\n",
        "        #     loss.backward()\n",
        "        #     optimizer.step()\n",
        "\n",
        "        #     # print statistics\n",
        "        #     training_loss += loss.item()\n",
        "        #     training_correct += (predicted == labels).sum().item()\n",
        "\n",
        "#         '''\n",
        "#         This is the validation section\n",
        "# #         '''\n",
        "#         val_loss = 0\n",
        "#         val_correct = 0\n",
        "# #         val_total = 0\n",
        "#         model.eval()\n",
        "#         with torch.no_grad(): # do not perform any calculation  \n",
        "#             for data in test_dataloader:\n",
        "#                 inputs, labels = data\n",
        "#                 inputs, labels = inputs.to(device), labels.to(device)\n",
        "#                 outputs = model(inputs)\n",
        "#                 predicted = outputs.argmax(1)\n",
        "#                 loss = criterion(outputs, labels)\n",
        "#                 val_loss += loss.item()\n",
        "# #                 val_total += labels.size(0)\n",
        "#                 val_correct += (predicted == labels).sum().item()\n",
        "\n",
        "# #         print('Val Accuracy of the network on the 10000 test images: %d %%' % (100 * correct / total))\n",
        "\n",
        "#         training_loss = training_loss/(len(trainloader_resnet)) # this is consider as batch\n",
        "#         train_acc = (training_correct / len(trainloader_resnet.dataset)) # this consider as all simple\n",
        "#         val_loss = val_loss / len(validloader_resnet)\n",
        "#         val_acc = (val_correct/len(validloader_resnet.dataset))\n",
        "        \n",
        "#         # save the loss and accuracy in the list\n",
        "#         train_loss_ls.append(training_loss)\n",
        "#         train_accuracy_ls.append(train_acc)\n",
        "#         val_loss_ls.append(val_loss)\n",
        "#         val_accuracy_ls.append(val_acc)\n",
        "#         print(\"epoch\",epoch)\n",
        "#         print(\"train_accuracy: \",train_acc,\"val_accuracy: \",val_acc,\"train_loss: \",training_loss, \"val_loss:\", val_loss)\n",
        "\n",
        "#     print('Finished Training')\n",
        "#     return (train_accuracy_ls,train_loss_ls,val_accuracy_ls,val_loss_ls)\n"
      ]
    },
    {
      "cell_type": "code",
      "execution_count": null,
      "metadata": {
        "id": "A6dqG8L-8N6d"
      },
      "outputs": [],
      "source": [
        "import evaluate\n",
        "\n",
        "metric = evaluate.load(\"accuracy\")\n",
        "model.eval()\n",
        "\n",
        "for batch in eval_dataloader:\n",
        "    batch = {k: v.to(device) for k, v in batch.items()}\n",
        "    with torch.no_grad():\n",
        "        outputs = model(**batch)\n",
        "\n",
        "    logits = outputs.logits\n",
        "    predictions = torch.argmax(logits, dim=-1)\n",
        "    metric.add_batch(predictions=predictions, references=batch[\"labels\"])\n",
        "\n",
        "metric.compute()"
      ]
    }
  ],
  "metadata": {
    "kernelspec": {
      "display_name": "base",
      "language": "python",
      "name": "python3"
    },
    "language_info": {
      "codemirror_mode": {
        "name": "ipython",
        "version": 3
      },
      "file_extension": ".py",
      "mimetype": "text/x-python",
      "name": "python",
      "nbconvert_exporter": "python",
      "pygments_lexer": "ipython3",
      "version": "3.9.12"
    },
    "orig_nbformat": 4,
    "colab": {
      "provenance": []
    },
    "accelerator": "GPU",
    "gpuClass": "standard"
  },
  "nbformat": 4,
  "nbformat_minor": 0
}