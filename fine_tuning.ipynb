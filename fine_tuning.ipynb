{
  "cells": [
    {
      "cell_type": "code",
      "source": [
        "#All Imports \n",
        "# !pip install datasets\n",
        "# !pip install transformers\n",
        "# !pip install SentencePiece"
      ],
      "metadata": {
        "id": "eCVrIFvA-o4I"
      },
      "execution_count": 3,
      "outputs": []
    },
    {
      "cell_type": "markdown",
      "metadata": {
        "id": "i4mbwjzK8N6Q"
      },
      "source": [
        "# Transfer learning \n",
        "- train the pre-train model "
      ]
    },
    {
      "cell_type": "code",
      "execution_count": 4,
      "metadata": {
        "colab": {
          "base_uri": "https://localhost:8080/",
          "height": 355
        },
        "id": "5DsFHIQm8N6U",
        "outputId": "b173afeb-e0bd-474e-fbd6-b876c950d824"
      },
      "outputs": [
        {
          "output_type": "stream",
          "name": "stdout",
          "text": [
            "Mounted at /content/drive\n"
          ]
        },
        {
          "output_type": "execute_result",
          "data": {
            "text/plain": [
              "     paper_id                                          body_text  \\\n",
              "0  PMC8524215  cancer prevalent cause mortality world common ...   \n",
              "1  PMC7698314  sarscov2 virus responsible covid19 disease fir...   \n",
              "2  PMC8050998  artificial intelligence ai methodology compute...   \n",
              "3  PMC7581283  common feature patient admitted coronavirus di...   \n",
              "4  PMC7392455  coronavirus disease covid19 caused severe acut...   \n",
              "\n",
              "                                             authors  \\\n",
              "0  ['Muhammad  Sufyan ', 'Farah  Shahid ', 'Faiza...   \n",
              "1  ['Enrique  Casalino ', 'Christophe  Choquet ',...   \n",
              "2  ['Martina  Gurgitano ', 'Salvatore Alessio Ang...   \n",
              "3  ['Ejvind Frausing Hansen ', 'Charlotte Sandau ...   \n",
              "4  ['Daniel O. Griffin ', 'Alexandra  Jensen ', '...   \n",
              "\n",
              "                                               title  \\\n",
              "0  implementation vaccinomics insilico approach c...   \n",
              "1  analysis emergency department visit hospital a...   \n",
              "2  interventional radiology exmachina impact arti...   \n",
              "3  automatic oxygen titration o2matic® patient ad...   \n",
              "4  pulmonary embolism increased level ddimer pati...   \n",
              "\n",
              "                                            abstract Language  \n",
              "0  68591    One of the most common gynecologic ca...       en  \n",
              "1  813557    ED-visits and through-ED admissions ...       en  \n",
              "2  757155    Artificial intelligence (AI) is a br...       en  \n",
              "3  942009    INTRODUCTION: Patients with coronavi...       en  \n",
              "4  843714    We report 3 patients with coronaviru...       en  "
            ],
            "text/html": [
              "\n",
              "  <div id=\"df-05c7a6ab-fe19-4300-aaef-502285577ac3\">\n",
              "    <div class=\"colab-df-container\">\n",
              "      <div>\n",
              "<style scoped>\n",
              "    .dataframe tbody tr th:only-of-type {\n",
              "        vertical-align: middle;\n",
              "    }\n",
              "\n",
              "    .dataframe tbody tr th {\n",
              "        vertical-align: top;\n",
              "    }\n",
              "\n",
              "    .dataframe thead th {\n",
              "        text-align: right;\n",
              "    }\n",
              "</style>\n",
              "<table border=\"1\" class=\"dataframe\">\n",
              "  <thead>\n",
              "    <tr style=\"text-align: right;\">\n",
              "      <th></th>\n",
              "      <th>paper_id</th>\n",
              "      <th>body_text</th>\n",
              "      <th>authors</th>\n",
              "      <th>title</th>\n",
              "      <th>abstract</th>\n",
              "      <th>Language</th>\n",
              "    </tr>\n",
              "  </thead>\n",
              "  <tbody>\n",
              "    <tr>\n",
              "      <th>0</th>\n",
              "      <td>PMC8524215</td>\n",
              "      <td>cancer prevalent cause mortality world common ...</td>\n",
              "      <td>['Muhammad  Sufyan ', 'Farah  Shahid ', 'Faiza...</td>\n",
              "      <td>implementation vaccinomics insilico approach c...</td>\n",
              "      <td>68591    One of the most common gynecologic ca...</td>\n",
              "      <td>en</td>\n",
              "    </tr>\n",
              "    <tr>\n",
              "      <th>1</th>\n",
              "      <td>PMC7698314</td>\n",
              "      <td>sarscov2 virus responsible covid19 disease fir...</td>\n",
              "      <td>['Enrique  Casalino ', 'Christophe  Choquet ',...</td>\n",
              "      <td>analysis emergency department visit hospital a...</td>\n",
              "      <td>813557    ED-visits and through-ED admissions ...</td>\n",
              "      <td>en</td>\n",
              "    </tr>\n",
              "    <tr>\n",
              "      <th>2</th>\n",
              "      <td>PMC8050998</td>\n",
              "      <td>artificial intelligence ai methodology compute...</td>\n",
              "      <td>['Martina  Gurgitano ', 'Salvatore Alessio Ang...</td>\n",
              "      <td>interventional radiology exmachina impact arti...</td>\n",
              "      <td>757155    Artificial intelligence (AI) is a br...</td>\n",
              "      <td>en</td>\n",
              "    </tr>\n",
              "    <tr>\n",
              "      <th>3</th>\n",
              "      <td>PMC7581283</td>\n",
              "      <td>common feature patient admitted coronavirus di...</td>\n",
              "      <td>['Ejvind Frausing Hansen ', 'Charlotte Sandau ...</td>\n",
              "      <td>automatic oxygen titration o2matic® patient ad...</td>\n",
              "      <td>942009    INTRODUCTION: Patients with coronavi...</td>\n",
              "      <td>en</td>\n",
              "    </tr>\n",
              "    <tr>\n",
              "      <th>4</th>\n",
              "      <td>PMC7392455</td>\n",
              "      <td>coronavirus disease covid19 caused severe acut...</td>\n",
              "      <td>['Daniel O. Griffin ', 'Alexandra  Jensen ', '...</td>\n",
              "      <td>pulmonary embolism increased level ddimer pati...</td>\n",
              "      <td>843714    We report 3 patients with coronaviru...</td>\n",
              "      <td>en</td>\n",
              "    </tr>\n",
              "  </tbody>\n",
              "</table>\n",
              "</div>\n",
              "      <button class=\"colab-df-convert\" onclick=\"convertToInteractive('df-05c7a6ab-fe19-4300-aaef-502285577ac3')\"\n",
              "              title=\"Convert this dataframe to an interactive table.\"\n",
              "              style=\"display:none;\">\n",
              "        \n",
              "  <svg xmlns=\"http://www.w3.org/2000/svg\" height=\"24px\"viewBox=\"0 0 24 24\"\n",
              "       width=\"24px\">\n",
              "    <path d=\"M0 0h24v24H0V0z\" fill=\"none\"/>\n",
              "    <path d=\"M18.56 5.44l.94 2.06.94-2.06 2.06-.94-2.06-.94-.94-2.06-.94 2.06-2.06.94zm-11 1L8.5 8.5l.94-2.06 2.06-.94-2.06-.94L8.5 2.5l-.94 2.06-2.06.94zm10 10l.94 2.06.94-2.06 2.06-.94-2.06-.94-.94-2.06-.94 2.06-2.06.94z\"/><path d=\"M17.41 7.96l-1.37-1.37c-.4-.4-.92-.59-1.43-.59-.52 0-1.04.2-1.43.59L10.3 9.45l-7.72 7.72c-.78.78-.78 2.05 0 2.83L4 21.41c.39.39.9.59 1.41.59.51 0 1.02-.2 1.41-.59l7.78-7.78 2.81-2.81c.8-.78.8-2.07 0-2.86zM5.41 20L4 18.59l7.72-7.72 1.47 1.35L5.41 20z\"/>\n",
              "  </svg>\n",
              "      </button>\n",
              "      \n",
              "  <style>\n",
              "    .colab-df-container {\n",
              "      display:flex;\n",
              "      flex-wrap:wrap;\n",
              "      gap: 12px;\n",
              "    }\n",
              "\n",
              "    .colab-df-convert {\n",
              "      background-color: #E8F0FE;\n",
              "      border: none;\n",
              "      border-radius: 50%;\n",
              "      cursor: pointer;\n",
              "      display: none;\n",
              "      fill: #1967D2;\n",
              "      height: 32px;\n",
              "      padding: 0 0 0 0;\n",
              "      width: 32px;\n",
              "    }\n",
              "\n",
              "    .colab-df-convert:hover {\n",
              "      background-color: #E2EBFA;\n",
              "      box-shadow: 0px 1px 2px rgba(60, 64, 67, 0.3), 0px 1px 3px 1px rgba(60, 64, 67, 0.15);\n",
              "      fill: #174EA6;\n",
              "    }\n",
              "\n",
              "    [theme=dark] .colab-df-convert {\n",
              "      background-color: #3B4455;\n",
              "      fill: #D2E3FC;\n",
              "    }\n",
              "\n",
              "    [theme=dark] .colab-df-convert:hover {\n",
              "      background-color: #434B5C;\n",
              "      box-shadow: 0px 1px 3px 1px rgba(0, 0, 0, 0.15);\n",
              "      filter: drop-shadow(0px 1px 2px rgba(0, 0, 0, 0.3));\n",
              "      fill: #FFFFFF;\n",
              "    }\n",
              "  </style>\n",
              "\n",
              "      <script>\n",
              "        const buttonEl =\n",
              "          document.querySelector('#df-05c7a6ab-fe19-4300-aaef-502285577ac3 button.colab-df-convert');\n",
              "        buttonEl.style.display =\n",
              "          google.colab.kernel.accessAllowed ? 'block' : 'none';\n",
              "\n",
              "        async function convertToInteractive(key) {\n",
              "          const element = document.querySelector('#df-05c7a6ab-fe19-4300-aaef-502285577ac3');\n",
              "          const dataTable =\n",
              "            await google.colab.kernel.invokeFunction('convertToInteractive',\n",
              "                                                     [key], {});\n",
              "          if (!dataTable) return;\n",
              "\n",
              "          const docLinkHtml = 'Like what you see? Visit the ' +\n",
              "            '<a target=\"_blank\" href=https://colab.research.google.com/notebooks/data_table.ipynb>data table notebook</a>'\n",
              "            + ' to learn more about interactive tables.';\n",
              "          element.innerHTML = '';\n",
              "          dataTable['output_type'] = 'display_data';\n",
              "          await google.colab.output.renderOutput(dataTable, element);\n",
              "          const docLink = document.createElement('div');\n",
              "          docLink.innerHTML = docLinkHtml;\n",
              "          element.appendChild(docLink);\n",
              "        }\n",
              "      </script>\n",
              "    </div>\n",
              "  </div>\n",
              "  "
            ]
          },
          "metadata": {},
          "execution_count": 4
        }
      ],
      "source": [
        "import pandas as pd\n",
        "#mounting drive\n",
        "from google.colab import drive\n",
        "drive.mount('/content/drive')\n",
        "data_dir = '/content/drive/MyDrive/NLP/Ass3/'\n",
        "\n",
        "# article_df = pd.read_csv(data_dir + 'md_pmc_covid_articles.csv')\n",
        "# article_df.head(5)\n",
        "proc_article_df = pd.read_csv(data_dir + 'Processed_covid_articles.csv')\n",
        "proc_article_df = proc_article_df.drop(['Unnamed: 0'], axis=1)\n",
        "proc_article_df.head(5)"
      ]
    },
    {
      "cell_type": "code",
      "source": [
        "#Showing a sample \n",
        "sample = proc_article_df.iloc[0]\n",
        "print(f\"\"\"\n",
        "Article (excerpt of 500 characters, total length: {len(sample[\"body_text\"])}):\n",
        "\"\"\")\n",
        "print(sample[\"body_text\"][:500])\n",
        "print(f'\\nSummary (length: {len(sample[\"abstract\"])}):')\n",
        "print(sample[\"abstract\"])"
      ],
      "metadata": {
        "colab": {
          "base_uri": "https://localhost:8080/"
        },
        "id": "tXQDzcinKhWJ",
        "outputId": "db1c2c80-1971-4b30-c316-07cd35d17cbc"
      },
      "execution_count": 10,
      "outputs": [
        {
          "output_type": "stream",
          "name": "stdout",
          "text": [
            "\n",
            "Article (excerpt of 500 characters, total length: 25277):\n",
            "\n",
            "cancer prevalent cause mortality world common hindrance country achieving desired life expectancy . ovarian cancer one common type cancer woman . guleria . 2020 . ovarian cancer extremely lethal nastiest prognosis ailment . inability early diagnosis nearly nonspecific symptom common ovarian cancer identified iiiiv stage . five major histological form ovarian cancer identified epithelial edward . 2016 torre . 2018 siegel miller 2016 . endometrioid 13 mucinous 13 clear cell cancer 6 three prevalen\n",
            "\n",
            "Summary (length: 88):\n",
            "68591    One of the most common gynecologic cancers is ...\n",
            "Name: abstract, dtype: object\n"
          ]
        }
      ]
    },
    {
      "cell_type": "markdown",
      "source": [
        "## T5 model "
      ],
      "metadata": {
        "id": "Jc-SUrbyX9Kr"
      }
    },
    {
      "cell_type": "code",
      "source": [
        "import transformers\n",
        "\n",
        "model_name = 't5-small'\n",
        "model = transformers.AutoModelWithLMHead.from_pretrained(model_name)\n",
        "\n",
        "tokenizer = transformers.AutoTokenizer.from_pretrained(model_name)\n",
        "\n",
        "nlp_summarizer = transformers.pipeline('summarization', model = model, tokenizer = tokenizer)\n",
        "\n",
        "nlp_summarizer(sample)\n"
      ],
      "metadata": {
        "colab": {
          "base_uri": "https://localhost:8080/",
          "height": 389
        },
        "id": "VXwBwDZzLB5R",
        "outputId": "0559ca99-49bf-4d96-feab-6a00ba6987b1"
      },
      "execution_count": 1,
      "outputs": [
        {
          "output_type": "error",
          "ename": "ModuleNotFoundError",
          "evalue": "ignored",
          "traceback": [
            "\u001b[0;31m---------------------------------------------------------------------------\u001b[0m",
            "\u001b[0;31mModuleNotFoundError\u001b[0m                       Traceback (most recent call last)",
            "\u001b[0;32m<ipython-input-1-5b6e49dcd957>\u001b[0m in \u001b[0;36m<cell line: 1>\u001b[0;34m()\u001b[0m\n\u001b[0;32m----> 1\u001b[0;31m \u001b[0;32mimport\u001b[0m \u001b[0mtransformers\u001b[0m\u001b[0;34m\u001b[0m\u001b[0;34m\u001b[0m\u001b[0m\n\u001b[0m\u001b[1;32m      2\u001b[0m \u001b[0;34m\u001b[0m\u001b[0m\n\u001b[1;32m      3\u001b[0m \u001b[0mmodel_name\u001b[0m \u001b[0;34m=\u001b[0m \u001b[0;34m't5-small'\u001b[0m\u001b[0;34m\u001b[0m\u001b[0;34m\u001b[0m\u001b[0m\n\u001b[1;32m      4\u001b[0m \u001b[0mmodel\u001b[0m \u001b[0;34m=\u001b[0m \u001b[0mtransformers\u001b[0m\u001b[0;34m.\u001b[0m\u001b[0mAutoModelWithLMHead\u001b[0m\u001b[0;34m.\u001b[0m\u001b[0mfrom_pretrained\u001b[0m\u001b[0;34m(\u001b[0m\u001b[0mmodel_name\u001b[0m\u001b[0;34m)\u001b[0m\u001b[0;34m\u001b[0m\u001b[0;34m\u001b[0m\u001b[0m\n\u001b[1;32m      5\u001b[0m \u001b[0;34m\u001b[0m\u001b[0m\n",
            "\u001b[0;31mModuleNotFoundError\u001b[0m: No module named 'transformers'",
            "",
            "\u001b[0;31m---------------------------------------------------------------------------\u001b[0;32m\nNOTE: If your import is failing due to a missing package, you can\nmanually install dependencies using either !pip or !apt.\n\nTo view examples of installing some common dependencies, click the\n\"Open Examples\" button below.\n\u001b[0;31m---------------------------------------------------------------------------\u001b[0m\n"
          ],
          "errorDetails": {
            "actions": [
              {
                "action": "open_url",
                "actionText": "Open Examples",
                "url": "/notebooks/snippets/importing_libraries.ipynb"
              }
            ]
          }
        }
      ]
    },
    {
      "cell_type": "markdown",
      "source": [
        "## Pegasus Model"
      ],
      "metadata": {
        "id": "bjQHvdGYYAfD"
      }
    },
    {
      "cell_type": "code",
      "execution_count": null,
      "metadata": {
        "id": "UqRdC-vs8N6Y"
      },
      "outputs": [],
      "source": [
        "from transformers import AutoTokenizer\n",
        "tokenizer = AutoTokenizer.from_pretrained(\"bert-base-cased\")"
      ]
    },
    {
      "cell_type": "code",
      "execution_count": null,
      "metadata": {
        "id": "0yaRQbE88N6Z",
        "outputId": "56f2fccf-24e6-4c95-aa64-235e810d028a"
      },
      "outputs": [
        {
          "data": {
            "text/html": [
              "<div>\n",
              "<style scoped>\n",
              "    .dataframe tbody tr th:only-of-type {\n",
              "        vertical-align: middle;\n",
              "    }\n",
              "\n",
              "    .dataframe tbody tr th {\n",
              "        vertical-align: top;\n",
              "    }\n",
              "\n",
              "    .dataframe thead th {\n",
              "        text-align: right;\n",
              "    }\n",
              "</style>\n",
              "<table border=\"1\" class=\"dataframe\">\n",
              "  <thead>\n",
              "    <tr style=\"text-align: right;\">\n",
              "      <th></th>\n",
              "      <th>body_text</th>\n",
              "      <th>abstract</th>\n",
              "    </tr>\n",
              "  </thead>\n",
              "  <tbody>\n",
              "    <tr>\n",
              "      <th>0</th>\n",
              "      <td>cancer prevalent cause mortality world common ...</td>\n",
              "      <td>68591    One of the most common gynecologic ca...</td>\n",
              "    </tr>\n",
              "    <tr>\n",
              "      <th>1</th>\n",
              "      <td>sarscov2 virus responsible covid19 disease fir...</td>\n",
              "      <td>813557    ED-visits and through-ED admissions ...</td>\n",
              "    </tr>\n",
              "    <tr>\n",
              "      <th>2</th>\n",
              "      <td>artificial intelligence ai methodology compute...</td>\n",
              "      <td>757155    Artificial intelligence (AI) is a br...</td>\n",
              "    </tr>\n",
              "    <tr>\n",
              "      <th>3</th>\n",
              "      <td>common feature patient admitted coronavirus di...</td>\n",
              "      <td>942009    INTRODUCTION: Patients with coronavi...</td>\n",
              "    </tr>\n",
              "    <tr>\n",
              "      <th>4</th>\n",
              "      <td>coronavirus disease covid19 caused severe acut...</td>\n",
              "      <td>843714    We report 3 patients with coronaviru...</td>\n",
              "    </tr>\n",
              "  </tbody>\n",
              "</table>\n",
              "</div>"
            ],
            "text/plain": [
              "                                           body_text  \\\n",
              "0  cancer prevalent cause mortality world common ...   \n",
              "1  sarscov2 virus responsible covid19 disease fir...   \n",
              "2  artificial intelligence ai methodology compute...   \n",
              "3  common feature patient admitted coronavirus di...   \n",
              "4  coronavirus disease covid19 caused severe acut...   \n",
              "\n",
              "                                            abstract  \n",
              "0  68591    One of the most common gynecologic ca...  \n",
              "1  813557    ED-visits and through-ED admissions ...  \n",
              "2  757155    Artificial intelligence (AI) is a br...  \n",
              "3  942009    INTRODUCTION: Patients with coronavi...  \n",
              "4  843714    We report 3 patients with coronaviru...  "
            ]
          },
          "execution_count": 3,
          "metadata": {},
          "output_type": "execute_result"
        }
      ],
      "source": [
        "import pandas as pd\n",
        "# divide the dataframe into training data and test data\n",
        "article_df_copy = proc_article_df.copy()\n",
        "train_article = article_df_copy[['body_text','abstract']].iloc[:4000]  # 4000 rows for training\n",
        "test_article = article_df_copy[['body_text','abstract']].iloc[4000:] # 500 rows for testing\n",
        "\n",
        "train_article.head(5)"
      ]
    },
    {
      "cell_type": "code",
      "execution_count": null,
      "metadata": {
        "id": "XqnEvpGD8N6Z",
        "outputId": "831f23be-cf9f-4421-b34e-9ae3a301a4a2"
      },
      "outputs": [
        {
          "data": {
            "text/plain": [
              "500"
            ]
          },
          "execution_count": 4,
          "metadata": {},
          "output_type": "execute_result"
        }
      ],
      "source": [
        "len(test_article)"
      ]
    },
    {
      "cell_type": "code",
      "execution_count": null,
      "metadata": {
        "id": "F6i0NP5l8N6a",
        "outputId": "b7a7e6b7-4d2d-426f-cf3b-daf43f5f536e"
      },
      "outputs": [
        {
          "data": {
            "text/plain": [
              "dict_keys(['input_ids', 'token_type_ids', 'attention_mask'])"
            ]
          },
          "execution_count": 4,
          "metadata": {},
          "output_type": "execute_result"
        }
      ],
      "source": [
        "temp = tokenizer(train_article['body_text'][0], padding=\"max_length\", truncation=True)\n",
        "temp.keys()"
      ]
    },
    {
      "cell_type": "code",
      "execution_count": null,
      "metadata": {
        "id": "kP8YD3Rw8N6a"
      },
      "outputs": [],
      "source": [
        "from transformers import AutoTokenizer\n",
        "tokenizer = AutoTokenizer.from_pretrained(\"bert-base-cased\")\n",
        "\n",
        "\n",
        "def tokenization(df):\n",
        "    \n",
        "    # tokenize in ids the body text and abstract\n",
        "    tokenized_ids = list()\n",
        "    # results_df ={ \n",
        "    #     'feature_input_ids': 0,\n",
        "    #     'feature_attention_mask': 0,\n",
        "    #     'feature_text': 0,\n",
        "    #     'label_input_ids': 0,\n",
        "    #     'label_attention_mask': 0,\n",
        "    #     'label_text': 0,\n",
        "    #     }\n",
        "    for i,j in zip(df['body_text'], df['abstract']):\n",
        "        f_tokenized = tokenizer(i, padding=\"max_length\", truncation=True)\n",
        "        l_tokenized = tokenizer(j, padding=\"max_length\", truncation=True)\n",
        "        results_df ={ \n",
        "        'feature_input_ids': f_tokenized['input_ids'].flatten(),\n",
        "        'feature_attention_mask': f_tokenized['attention_mask'],\n",
        "        'feature_text': i,\n",
        "        'label_input_ids': l_tokenized['input_ids'].flatten(),\n",
        "        'label_attention_mask': l_tokenized['attention_mask'],\n",
        "        'label_text': j\n",
        "        }\n",
        "        \n",
        "        tokenized_ids.append(results_df)\n",
        "    return tokenized_ids\n",
        "\n",
        "# list of dictionaries, each dictionary is a tokenized article with 'input_ids', 'token_type_ids', 'attention_mask'\n",
        "\n",
        "train_X_encode_ids = tokenization(train_article)\n",
        "test_X_encode_ids = tokenization(test_article)\n",
        "\n",
        "# train_y_encode_ids = tokenization(train_article, \"abstract\")\n",
        "# test_y_encode_ids = tokenization(test_article, \"abstract\")\n",
        "\n"
      ]
    },
    {
      "cell_type": "code",
      "execution_count": null,
      "metadata": {
        "id": "fyDwDBUC8N6b",
        "outputId": "c689ca1f-d161-4d02-9002-1eaa339a0022"
      },
      "outputs": [
        {
          "data": {
            "text/plain": [
              "dict_keys(['feature_input_ids', 'feature_attention_mask', 'feature_text', 'label_input_ids', 'label_attention_mask', 'label_text'])"
            ]
          },
          "execution_count": 9,
          "metadata": {},
          "output_type": "execute_result"
        }
      ],
      "source": [
        "train_X_encode_ids[0].keys()"
      ]
    },
    {
      "cell_type": "code",
      "execution_count": null,
      "metadata": {
        "id": "0CM-HYDQ8N6b"
      },
      "outputs": [],
      "source": [
        "small_train_dataset = train_X_encode_ids[0:1000]\n",
        "small_eval_dataset = test_X_encode_ids[0:1000]"
      ]
    },
    {
      "cell_type": "code",
      "execution_count": null,
      "metadata": {
        "id": "n6mSacg_8N6b"
      },
      "outputs": [],
      "source": [
        "from torch.utils.data import DataLoader\n",
        "\n",
        "train_dataloader = DataLoader(small_train_dataset, shuffle=True, batch_size=8)\n",
        "eval_dataloader = DataLoader(small_eval_dataset, batch_size=8)"
      ]
    },
    {
      "cell_type": "code",
      "execution_count": null,
      "metadata": {
        "id": "Mu4CHtZq8N6c",
        "outputId": "622af1ad-65c1-4a9e-994a-707252ba9d28"
      },
      "outputs": [
        {
          "name": "stderr",
          "output_type": "stream",
          "text": [
            "Some weights of the model checkpoint at bert-base-uncased were not used when initializing BertForSequenceClassification: ['cls.predictions.decoder.weight', 'cls.seq_relationship.bias', 'cls.seq_relationship.weight', 'cls.predictions.transform.dense.weight', 'cls.predictions.transform.dense.bias', 'cls.predictions.transform.LayerNorm.weight', 'cls.predictions.transform.LayerNorm.bias', 'cls.predictions.bias']\n",
            "- This IS expected if you are initializing BertForSequenceClassification from the checkpoint of a model trained on another task or with another architecture (e.g. initializing a BertForSequenceClassification model from a BertForPreTraining model).\n",
            "- This IS NOT expected if you are initializing BertForSequenceClassification from the checkpoint of a model that you expect to be exactly identical (initializing a BertForSequenceClassification model from a BertForSequenceClassification model).\n",
            "Some weights of BertForSequenceClassification were not initialized from the model checkpoint at bert-base-uncased and are newly initialized: ['classifier.weight', 'classifier.bias']\n",
            "You should probably TRAIN this model on a down-stream task to be able to use it for predictions and inference.\n"
          ]
        }
      ],
      "source": [
        "from transformers import TFAutoModelForSequenceClassification\n",
        "from transformers import BertForSequenceClassification\n",
        "import torch\n",
        "from torch.optim import Adam\n",
        "from transformers import get_scheduler\n",
        "import tqdm\n",
        "\n",
        "l_rate = 1e-5\n",
        "epochs = 2\n",
        "train_steps = epochs * len(train_dataloader)\n",
        "#Get transformaer specific model later\n",
        "t_model = BertForSequenceClassification.from_pretrained('bert-base-uncased')\n",
        "optimizer = Adam(params = t_model.parameters(), lr=l_rate)\n",
        "\n",
        "lr_scheduler = get_scheduler(\n",
        "    name=\"linear\", optimizer=optimizer, num_warmup_steps=0, num_training_steps=train_steps\n",
        ")\n"
      ]
    },
    {
      "cell_type": "code",
      "execution_count": null,
      "metadata": {
        "id": "f6Ti2Aw28N6c",
        "outputId": "9404da13-066d-4f78-b252-55075626c9ce"
      },
      "outputs": [
        {
          "name": "stdout",
          "output_type": "stream",
          "text": [
            "tensor([1.], device='mps:0')\n"
          ]
        }
      ],
      "source": [
        "import torch\n",
        "mps_device = torch.device(\"cpu\")\n",
        "if torch.backends.mps.is_available():\n",
        "    mps_device = torch.device(\"mps\")\n",
        "    x = torch.ones(1, device=mps_device)\n",
        "    print(x)\n",
        "else:\n",
        "    print(\"MPS device not found.\")"
      ]
    },
    {
      "cell_type": "code",
      "execution_count": null,
      "metadata": {
        "id": "pu4umjap8N6c",
        "outputId": "beef249b-66e7-4c1f-dc5f-e998f23cdfd2"
      },
      "outputs": [
        {
          "ename": "AttributeError",
          "evalue": "'list' object has no attribute 'to'",
          "output_type": "error",
          "traceback": [
            "\u001b[0;31m---------------------------------------------------------------------------\u001b[0m",
            "\u001b[0;31mAttributeError\u001b[0m                            Traceback (most recent call last)",
            "\u001b[1;32m/Users/kamanbeckypang/Documents/year2_trim_1/NLP/nlp_assign_3/fine_tuning.ipynb Cell 13\u001b[0m in \u001b[0;36m<cell line: 29>\u001b[0;34m()\u001b[0m\n\u001b[1;32m     <a href='vscode-notebook-cell:/Users/kamanbeckypang/Documents/year2_trim_1/NLP/nlp_assign_3/fine_tuning.ipynb#W0sZmlsZQ%3D%3D?line=25'>26</a>\u001b[0m             optimizer\u001b[39m.\u001b[39mzero_grad()\n\u001b[1;32m     <a href='vscode-notebook-cell:/Users/kamanbeckypang/Documents/year2_trim_1/NLP/nlp_assign_3/fine_tuning.ipynb#W0sZmlsZQ%3D%3D?line=26'>27</a>\u001b[0m             \u001b[39m#progress_bar.update(1)\u001b[39;00m\n\u001b[0;32m---> <a href='vscode-notebook-cell:/Users/kamanbeckypang/Documents/year2_trim_1/NLP/nlp_assign_3/fine_tuning.ipynb#W0sZmlsZQ%3D%3D?line=28'>29</a>\u001b[0m train(epochs, t_model, optimizer,train_dataloader)\n",
            "\u001b[1;32m/Users/kamanbeckypang/Documents/year2_trim_1/NLP/nlp_assign_3/fine_tuning.ipynb Cell 13\u001b[0m in \u001b[0;36mtrain\u001b[0;34m(epochs, model, optimizer, train_dataloader)\u001b[0m\n\u001b[1;32m     <a href='vscode-notebook-cell:/Users/kamanbeckypang/Documents/year2_trim_1/NLP/nlp_assign_3/fine_tuning.ipynb#W0sZmlsZQ%3D%3D?line=15'>16</a>\u001b[0m model\u001b[39m.\u001b[39mtrain() \u001b[39m# the model is in training mode, will consider evething like batch normalization and dropout\u001b[39;00m\n\u001b[1;32m     <a href='vscode-notebook-cell:/Users/kamanbeckypang/Documents/year2_trim_1/NLP/nlp_assign_3/fine_tuning.ipynb#W0sZmlsZQ%3D%3D?line=17'>18</a>\u001b[0m \u001b[39mfor\u001b[39;00m batch \u001b[39min\u001b[39;00m train_dataloader:\n\u001b[0;32m---> <a href='vscode-notebook-cell:/Users/kamanbeckypang/Documents/year2_trim_1/NLP/nlp_assign_3/fine_tuning.ipynb#W0sZmlsZQ%3D%3D?line=18'>19</a>\u001b[0m     batch \u001b[39m=\u001b[39m {k: v\u001b[39m.\u001b[39mto(device) \u001b[39mfor\u001b[39;00m k, v \u001b[39min\u001b[39;00m batch\u001b[39m.\u001b[39mitems()}\n\u001b[1;32m     <a href='vscode-notebook-cell:/Users/kamanbeckypang/Documents/year2_trim_1/NLP/nlp_assign_3/fine_tuning.ipynb#W0sZmlsZQ%3D%3D?line=19'>20</a>\u001b[0m     outputs \u001b[39m=\u001b[39m model(\u001b[39m*\u001b[39m\u001b[39m*\u001b[39mbatch)\n\u001b[1;32m     <a href='vscode-notebook-cell:/Users/kamanbeckypang/Documents/year2_trim_1/NLP/nlp_assign_3/fine_tuning.ipynb#W0sZmlsZQ%3D%3D?line=20'>21</a>\u001b[0m     loss \u001b[39m=\u001b[39m outputs\u001b[39m.\u001b[39mloss\n",
            "\u001b[1;32m/Users/kamanbeckypang/Documents/year2_trim_1/NLP/nlp_assign_3/fine_tuning.ipynb Cell 13\u001b[0m in \u001b[0;36m<dictcomp>\u001b[0;34m(.0)\u001b[0m\n\u001b[1;32m     <a href='vscode-notebook-cell:/Users/kamanbeckypang/Documents/year2_trim_1/NLP/nlp_assign_3/fine_tuning.ipynb#W0sZmlsZQ%3D%3D?line=15'>16</a>\u001b[0m model\u001b[39m.\u001b[39mtrain() \u001b[39m# the model is in training mode, will consider evething like batch normalization and dropout\u001b[39;00m\n\u001b[1;32m     <a href='vscode-notebook-cell:/Users/kamanbeckypang/Documents/year2_trim_1/NLP/nlp_assign_3/fine_tuning.ipynb#W0sZmlsZQ%3D%3D?line=17'>18</a>\u001b[0m \u001b[39mfor\u001b[39;00m batch \u001b[39min\u001b[39;00m train_dataloader:\n\u001b[0;32m---> <a href='vscode-notebook-cell:/Users/kamanbeckypang/Documents/year2_trim_1/NLP/nlp_assign_3/fine_tuning.ipynb#W0sZmlsZQ%3D%3D?line=18'>19</a>\u001b[0m     batch \u001b[39m=\u001b[39m {k: v\u001b[39m.\u001b[39;49mto(device) \u001b[39mfor\u001b[39;00m k, v \u001b[39min\u001b[39;00m batch\u001b[39m.\u001b[39mitems()}\n\u001b[1;32m     <a href='vscode-notebook-cell:/Users/kamanbeckypang/Documents/year2_trim_1/NLP/nlp_assign_3/fine_tuning.ipynb#W0sZmlsZQ%3D%3D?line=19'>20</a>\u001b[0m     outputs \u001b[39m=\u001b[39m model(\u001b[39m*\u001b[39m\u001b[39m*\u001b[39mbatch)\n\u001b[1;32m     <a href='vscode-notebook-cell:/Users/kamanbeckypang/Documents/year2_trim_1/NLP/nlp_assign_3/fine_tuning.ipynb#W0sZmlsZQ%3D%3D?line=20'>21</a>\u001b[0m     loss \u001b[39m=\u001b[39m outputs\u001b[39m.\u001b[39mloss\n",
            "\u001b[0;31mAttributeError\u001b[0m: 'list' object has no attribute 'to'"
          ]
        }
      ],
      "source": [
        "def train(epochs, model, optimizer,train_dataloader):\n",
        "    train_loss_ls = []\n",
        "    train_accuracy_ls = []\n",
        "    val_loss_ls = []\n",
        "    val_accuracy_ls = []\n",
        "    model = model.to(mps_device)\n",
        "    #progress_bar = tqdm(range(train_steps))\n",
        "    '''\n",
        "     This is the training section\n",
        "    '''\n",
        "    \n",
        "    for epoch in range(epochs):  # loop over the dataset multiple times\n",
        "        \n",
        "        training_loss = 0\n",
        "        training_correct = 0\n",
        "        model.train() # the model is in training mode, will consider evething like batch normalization and dropout\n",
        "            \n",
        "        for batch in train_dataloader:\n",
        "            batch = {k: v.to(device) for k, v in batch.items()}\n",
        "            outputs = model(**batch)\n",
        "            loss = outputs.loss\n",
        "            loss.backward()\n",
        "\n",
        "            optimizer.step()\n",
        "            lr_scheduler.step()\n",
        "            optimizer.zero_grad()\n",
        "            #progress_bar.update(1)\n",
        "\n",
        "train(epochs, t_model, optimizer,train_dataloader)\n",
        "\n",
        "            \n",
        "        \n",
        "        # for i, data in enumerate(train_dataloader, 0): # each data is one batch\n",
        "        #     # get the inputs; data is a list of [inputs, labels]\n",
        "        #     inputs, labels = data\n",
        "        #     inputs, labels = inputs.to(mps_device), labels.to(mps_device)\n",
        "\n",
        "        #     # zero the parameter gradients\n",
        "        #     optimizer.zero_grad()\n",
        "\n",
        "        #     # forward + backward + optimize\n",
        "        #     outputs = model(inputs)\n",
        "        #     predicted = outputs.argmax(1)# index of max probability out of 10 classes\n",
        "\n",
        "        #     loss = criterion(outputs, labels)\n",
        "        #     loss.backward()\n",
        "        #     optimizer.step()\n",
        "\n",
        "        #     # print statistics\n",
        "        #     training_loss += loss.item()\n",
        "        #     training_correct += (predicted == labels).sum().item()\n",
        "\n",
        "#         '''\n",
        "#         This is the validation section\n",
        "# #         '''\n",
        "#         val_loss = 0\n",
        "#         val_correct = 0\n",
        "# #         val_total = 0\n",
        "#         model.eval()\n",
        "#         with torch.no_grad(): # do not perform any calculation  \n",
        "#             for data in test_dataloader:\n",
        "#                 inputs, labels = data\n",
        "#                 inputs, labels = inputs.to(device), labels.to(device)\n",
        "#                 outputs = model(inputs)\n",
        "#                 predicted = outputs.argmax(1)\n",
        "#                 loss = criterion(outputs, labels)\n",
        "#                 val_loss += loss.item()\n",
        "# #                 val_total += labels.size(0)\n",
        "#                 val_correct += (predicted == labels).sum().item()\n",
        "\n",
        "# #         print('Val Accuracy of the network on the 10000 test images: %d %%' % (100 * correct / total))\n",
        "\n",
        "#         training_loss = training_loss/(len(trainloader_resnet)) # this is consider as batch\n",
        "#         train_acc = (training_correct / len(trainloader_resnet.dataset)) # this consider as all simple\n",
        "#         val_loss = val_loss / len(validloader_resnet)\n",
        "#         val_acc = (val_correct/len(validloader_resnet.dataset))\n",
        "        \n",
        "#         # save the loss and accuracy in the list\n",
        "#         train_loss_ls.append(training_loss)\n",
        "#         train_accuracy_ls.append(train_acc)\n",
        "#         val_loss_ls.append(val_loss)\n",
        "#         val_accuracy_ls.append(val_acc)\n",
        "#         print(\"epoch\",epoch)\n",
        "#         print(\"train_accuracy: \",train_acc,\"val_accuracy: \",val_acc,\"train_loss: \",training_loss, \"val_loss:\", val_loss)\n",
        "\n",
        "#     print('Finished Training')\n",
        "#     return (train_accuracy_ls,train_loss_ls,val_accuracy_ls,val_loss_ls)\n"
      ]
    },
    {
      "cell_type": "code",
      "execution_count": null,
      "metadata": {
        "id": "A6dqG8L-8N6d"
      },
      "outputs": [],
      "source": [
        "import evaluate\n",
        "\n",
        "metric = evaluate.load(\"accuracy\")\n",
        "model.eval()\n",
        "\n",
        "for batch in eval_dataloader:\n",
        "    batch = {k: v.to(device) for k, v in batch.items()}\n",
        "    with torch.no_grad():\n",
        "        outputs = model(**batch)\n",
        "\n",
        "    logits = outputs.logits\n",
        "    predictions = torch.argmax(logits, dim=-1)\n",
        "    metric.add_batch(predictions=predictions, references=batch[\"labels\"])\n",
        "\n",
        "metric.compute()"
      ]
    }
  ],
  "metadata": {
    "kernelspec": {
      "display_name": "base",
      "language": "python",
      "name": "python3"
    },
    "language_info": {
      "codemirror_mode": {
        "name": "ipython",
        "version": 3
      },
      "file_extension": ".py",
      "mimetype": "text/x-python",
      "name": "python",
      "nbconvert_exporter": "python",
      "pygments_lexer": "ipython3",
      "version": "3.9.12"
    },
    "orig_nbformat": 4,
    "colab": {
      "provenance": []
    },
    "accelerator": "GPU",
    "gpuClass": "standard"
  },
  "nbformat": 4,
  "nbformat_minor": 0
}